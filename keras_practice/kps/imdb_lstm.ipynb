{
 "cells": [
  {
   "cell_type": "markdown",
   "metadata": {},
   "source": [
    "# IMDB Sentiment Classification With LSTM\n",
    "\n",
    "Sentiment classification with LSTM on IMDB dataset. \n",
    "\n",
    "This is an example that use LSTM as a fix-length layer on neural networks (Another is usage of LSTM or RNN is var-length, see [stateful_lstm](https://github.com/fchollet/keras/blob/master/examples/stateful_lstm.py))\n",
    "\n",
    "More information about LSTM in Keras: [LSTM intructions](https://keras.io/layers/recurrent/)\n",
    "\n",
    "More information about IMDB datasets: [IMDB_datasets](https://github.com/autoliuweijie/DeepLearning/blob/master/deep_learning_with_python/dlwp/c22_project_predict_sentiment_with_movie_review.ipynb)"
   ]
  },
  {
   "cell_type": "markdown",
   "metadata": {},
   "source": [
    "## 1. Preparation\n",
    "\n",
    "Import classes and functions we will use."
   ]
  },
  {
   "cell_type": "code",
   "execution_count": 24,
   "metadata": {
    "collapsed": true
   },
   "outputs": [],
   "source": [
    "import numpy as np\n",
    "from keras.preprocessing import sequence\n",
    "from keras.utils import np_utils\n",
    "from keras.models import Sequential\n",
    "from keras.layers import Dense, Dropout, Activation, Embedding, Flatten\n",
    "from keras.layers import LSTM, SimpleRNN, GRU\n",
    "from keras.datasets import imdb"
   ]
  },
  {
   "cell_type": "code",
   "execution_count": 2,
   "metadata": {
    "collapsed": true
   },
   "outputs": [],
   "source": [
    "# fix random seed\n",
    "seed = 7\n",
    "np.random.seed(seed)"
   ]
  },
  {
   "cell_type": "code",
   "execution_count": 11,
   "metadata": {
    "collapsed": true
   },
   "outputs": [],
   "source": [
    "# Set some global variable\n",
    "max_features = 20000  # the total number of words\n",
    "maxlen = 80\n",
    "batch_size = 32"
   ]
  },
  {
   "cell_type": "markdown",
   "metadata": {},
   "source": [
    "Load datasets. Every items in X_train is a list which means a sentence whose words has been replaced by int numbers."
   ]
  },
  {
   "cell_type": "code",
   "execution_count": 9,
   "metadata": {
    "collapsed": false
   },
   "outputs": [
    {
     "name": "stdout",
     "output_type": "stream",
     "text": [
      "(25000,)\n",
      "[1, 14, 22, 16, 43, 530, 973, 1622, 1385, 65, 458, 4468, 66, 3941, 4, 173, 36, 256, 5, 25, 100, 43, 838, 112, 50, 670, 2, 9, 35, 480, 284, 5, 150, 4, 172, 112, 167, 2, 336, 385, 39, 4, 172, 4536, 1111, 17, 546, 38, 13, 447, 4, 192, 50, 16, 6, 147, 2025, 19, 14, 22, 4, 1920, 4613, 469, 4, 22, 71, 87, 12, 16, 43, 530, 38, 76, 15, 13, 1247, 4, 22, 17, 515, 17, 12, 16, 626, 18, 19193, 5, 62, 386, 12, 8, 316, 8, 106, 5, 4, 2223, 5244, 16, 480, 66, 3785, 33, 4, 130, 12, 16, 38, 619, 5, 25, 124, 51, 36, 135, 48, 25, 1415, 33, 6, 22, 12, 215, 28, 77, 52, 5, 14, 407, 16, 82, 10311, 8, 4, 107, 117, 5952, 15, 256, 4, 2, 7, 3766, 5, 723, 36, 71, 43, 530, 476, 26, 400, 317, 46, 7, 4, 12118, 1029, 13, 104, 88, 4, 381, 15, 297, 98, 32, 2071, 56, 26, 141, 6, 194, 7486, 18, 4, 226, 22, 21, 134, 476, 26, 480, 5, 144, 30, 5535, 18, 51, 36, 28, 224, 92, 25, 104, 4, 226, 65, 16, 38, 1334, 88, 12, 16, 283, 5, 16, 4472, 113, 103, 32, 15, 16, 5345, 19, 178, 32]\n",
      "X type: <type 'list'>\n",
      "(25000,)\n",
      "1\n"
     ]
    }
   ],
   "source": [
    "# load data\n",
    "(X_train, Y_train), (X_val, Y_val) = imdb.load_data(nb_words=max_features)\n",
    "print(X_train.shape)\n",
    "print(X_train[0])\n",
    "print(\"X type: %s\"%(type(X_train[0])))\n",
    "print(Y_train.shape)\n",
    "print(Y_train[0])"
   ]
  },
  {
   "cell_type": "code",
   "execution_count": 10,
   "metadata": {
    "collapsed": false
   },
   "outputs": [
    {
     "name": "stdout",
     "output_type": "stream",
     "text": [
      "80\n"
     ]
    }
   ],
   "source": [
    "# pad sequences to fix length\n",
    "X_train = sequence.pad_sequences(X_train, maxlen=maxlen)\n",
    "X_val = sequence.pad_sequences(X_val, maxlen=maxlen)\n",
    "print(len(X_train[0]))"
   ]
  },
  {
   "cell_type": "markdown",
   "metadata": {},
   "source": [
    "## 2. Build Model"
   ]
  },
  {
   "cell_type": "code",
   "execution_count": 28,
   "metadata": {
    "collapsed": false
   },
   "outputs": [
    {
     "name": "stdout",
     "output_type": "stream",
     "text": [
      "____________________________________________________________________________________________________\n",
      "Layer (type)                     Output Shape          Param #     Connected to                     \n",
      "====================================================================================================\n",
      "embedding_13 (Embedding)         (None, 80, 32)        640000      embedding_input_13[0][0]         \n",
      "____________________________________________________________________________________________________\n",
      "lstm_13 (LSTM)                   (None, 80, 64)        24832       embedding_13[0][0]               \n",
      "____________________________________________________________________________________________________\n",
      "flatten_3 (Flatten)              (None, 5120)          0           lstm_13[0][0]                    \n",
      "____________________________________________________________________________________________________\n",
      "dense_12 (Dense)                 (None, 1)             5121        flatten_3[0][0]                  \n",
      "====================================================================================================\n",
      "Total params: 669953\n",
      "____________________________________________________________________________________________________\n",
      "None\n"
     ]
    }
   ],
   "source": [
    "# define a model\n",
    "def create_model():\n",
    "    model = Sequential()\n",
    "    model.add(Embedding(max_features, 32, input_length=maxlen, dropout=0.2))  # use 32-D vector to represent a word\n",
    "    model.add(LSTM(64, dropout_W=0.2, dropout_U=0.2, stateful=False, return_sequences=True))  # return_sequences means output in sequence, not average?\n",
    "    model.add(Flatten())\n",
    "    model.add(Dense(1, activation='sigmoid'))\n",
    "    model.compile(loss='binary_crossentropy', optimizer='adam', metrics=['accuracy'])\n",
    "    print(model.summary())\n",
    "    return model\n",
    "\n",
    "model = create_model()"
   ]
  },
  {
   "cell_type": "code",
   "execution_count": 31,
   "metadata": {
    "collapsed": false
   },
   "outputs": [
    {
     "name": "stderr",
     "output_type": "stream",
     "text": [
      "INFO (theano.gof.compilelock): Refreshing lock /Users/liuweijie/.theano/compiledir_Darwin-16.1.0-x86_64-i386-64bit-i386-2.7.12-64/lock_dir/lock\n",
      "INFO:theano.gof.compilelock:Refreshing lock /Users/liuweijie/.theano/compiledir_Darwin-16.1.0-x86_64-i386-64bit-i386-2.7.12-64/lock_dir/lock\n"
     ]
    },
    {
     "name": "stdout",
     "output_type": "stream",
     "text": [
      "Train on 25000 samples, validate on 25000 samples\n",
      "Epoch 1/15\n",
      "25000/25000 [==============================] - 61s - loss: 0.4801 - acc: 0.7557 - val_loss: 0.3534 - val_acc: 0.8430\n",
      "Epoch 2/15\n",
      "25000/25000 [==============================] - 63s - loss: 0.3166 - acc: 0.8660 - val_loss: 0.3510 - val_acc: 0.8447\n",
      "Epoch 3/15\n",
      "25000/25000 [==============================] - 64s - loss: 0.2578 - acc: 0.8951 - val_loss: 0.3660 - val_acc: 0.8376\n",
      "Epoch 4/15\n",
      "25000/25000 [==============================] - 64s - loss: 0.1956 - acc: 0.9220 - val_loss: 0.4119 - val_acc: 0.8315\n",
      "Epoch 5/15\n",
      "25000/25000 [==============================] - 65s - loss: 0.1421 - acc: 0.9455 - val_loss: 0.4513 - val_acc: 0.8212\n",
      "Epoch 6/15\n",
      "25000/25000 [==============================] - 65s - loss: 0.1078 - acc: 0.9603 - val_loss: 0.5206 - val_acc: 0.8212\n",
      "Epoch 7/15\n",
      "25000/25000 [==============================] - 65s - loss: 0.0861 - acc: 0.9681 - val_loss: 0.5634 - val_acc: 0.8146\n",
      "Epoch 8/15\n",
      "25000/25000 [==============================] - 65s - loss: 0.0745 - acc: 0.9719 - val_loss: 0.5996 - val_acc: 0.8097\n",
      "Epoch 9/15\n",
      "25000/25000 [==============================] - 65s - loss: 0.0628 - acc: 0.9771 - val_loss: 0.5831 - val_acc: 0.8130\n",
      "Epoch 10/15\n",
      "25000/25000 [==============================] - 66s - loss: 0.0546 - acc: 0.9800 - val_loss: 0.6062 - val_acc: 0.8147\n",
      "Epoch 11/15\n",
      "25000/25000 [==============================] - 66s - loss: 0.0479 - acc: 0.9826 - val_loss: 0.6604 - val_acc: 0.8147\n",
      "Epoch 12/15\n",
      "25000/25000 [==============================] - 67s - loss: 0.0401 - acc: 0.9857 - val_loss: 0.7052 - val_acc: 0.8023\n",
      "Epoch 13/15\n",
      "25000/25000 [==============================] - 67s - loss: 0.0416 - acc: 0.9853 - val_loss: 0.6754 - val_acc: 0.8088\n",
      "Epoch 14/15\n",
      "25000/25000 [==============================] - 67s - loss: 0.0386 - acc: 0.9861 - val_loss: 0.7133 - val_acc: 0.8016\n",
      "Epoch 15/15\n",
      "25000/25000 [==============================] - 67s - loss: 0.0336 - acc: 0.9881 - val_loss: 0.7216 - val_acc: 0.8040\n"
     ]
    },
    {
     "data": {
      "text/plain": [
       "<keras.callbacks.History at 0x118017b90>"
      ]
     },
     "execution_count": 31,
     "metadata": {},
     "output_type": "execute_result"
    }
   ],
   "source": [
    "model.fit(X_train, Y_train, batch_size=batch_size, nb_epoch=15,\n",
    "          validation_data=(X_val, Y_val), verbose=1)"
   ]
  },
  {
   "cell_type": "code",
   "execution_count": 32,
   "metadata": {
    "collapsed": false
   },
   "outputs": [
    {
     "name": "stdout",
     "output_type": "stream",
     "text": [
      "24992/25000 [============================>.] - ETA: 0sVal_acc: 80.40%\n"
     ]
    }
   ],
   "source": [
    "# evaluate model\n",
    "scores = model.evaluate(X_val, Y_val)\n",
    "print(\"Val_acc: %.2f%%\"%(scores[1]*100))"
   ]
  },
  {
   "cell_type": "code",
   "execution_count": null,
   "metadata": {
    "collapsed": true
   },
   "outputs": [],
   "source": []
  }
 ],
 "metadata": {
  "kernelspec": {
   "display_name": "Python 2",
   "language": "python",
   "name": "python2"
  },
  "language_info": {
   "codemirror_mode": {
    "name": "ipython",
    "version": 2
   },
   "file_extension": ".py",
   "mimetype": "text/x-python",
   "name": "python",
   "nbconvert_exporter": "python",
   "pygments_lexer": "ipython2",
   "version": "2.7.12"
  }
 },
 "nbformat": 4,
 "nbformat_minor": 0
}
