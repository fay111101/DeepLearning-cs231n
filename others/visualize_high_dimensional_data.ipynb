{
 "cells": [
  {
   "cell_type": "markdown",
   "metadata": {},
   "source": [
    "# Visualize your Data with Multidimensional Scaling\n",
    "\n",
    "In this notebook, we will introduce a multidimensional scaling method to visualize your high-dimension data at a 2-D plane.\n",
    "\n",
    "The main idea is mapping the distances of high dimensional space to the distances of 2-D space. Drawing data points at 2-D plane according to the principle that the 2-D distances among points are consistent with their high-dimension distances as much as possible."
   ]
  },
  {
   "cell_type": "code",
   "execution_count": 1,
   "metadata": {
    "collapsed": true
   },
   "outputs": [],
   "source": [
    "import numpy as np"
   ]
  },
  {
   "cell_type": "markdown",
   "metadata": {},
   "source": [
    "## 1. Define the distance in high dimensional space\n",
    "\n",
    "You can use any index to describe the distance of the data point in high dimensional space, such as Pearson、Euclidean、cosine distance. We take Euclidean distance as an example."
   ]
  },
  {
   "cell_type": "code",
   "execution_count": 2,
   "metadata": {
    "collapsed": false
   },
   "outputs": [],
   "source": [
    "def euclidean(x0, x1):\n",
    "    x0, x1 = np.array(x0), np.array(x1)\n",
    "    d = np.sum((x0 - x1)**2)**0.5\n",
    "    return d"
   ]
  },
  {
   "cell_type": "markdown",
   "metadata": {},
   "source": [
    "## 2. Sample Data\n",
    "\n",
    "Create a set of sample data."
   ]
  },
  {
   "cell_type": "code",
   "execution_count": 3,
   "metadata": {
    "collapsed": false
   },
   "outputs": [
    {
     "name": "stdout",
     "output_type": "stream",
     "text": [
      "(100, 10) (100,)\n"
     ]
    }
   ],
   "source": [
    "X = 100*np.random.random((100, 10))\n",
    "label = np.sum(X, axis=1)\n",
    "\n",
    "print X.shape, label.shape"
   ]
  },
  {
   "cell_type": "markdown",
   "metadata": {},
   "source": [
    "## 4. Scale down\n",
    "\n",
    "Now, we start to write the function of scale down."
   ]
  },
  {
   "cell_type": "code",
   "execution_count": 4,
   "metadata": {
    "collapsed": true
   },
   "outputs": [],
   "source": [
    "def scaledown(X, distance=euclidean, rate=0.1, itera=1000, rand_time=10, verbose=1):\n",
    "    \n",
    "    n = len(X)\n",
    "    \n",
    "    # calculate distances martix in high dimensional space\n",
    "    realdist = np.array([[distance(X[i], X[j]) for j in range(n)] for i in range(n)])\n",
    "    realdist = realdist / np.max(realdist)  # rescale between 0-1\n",
    "    \n",
    "    minerror = None\n",
    "    for i in range(rand_time): # search for n times\n",
    "        \n",
    "        if verbose: print(\"%s/%s, min_error=%s\"%(i, rand_time, minerror))\n",
    "        \n",
    "        # initilalize location in 2-D plane randomly\n",
    "        loc = np.array([[np.random.random(), np.random.random()] for i in range(n)])\n",
    "\n",
    "        # start iterating\n",
    "        lasterror = None\n",
    "        for m in range(itera):\n",
    "\n",
    "            # calculate distance in 2D plane\n",
    "            fakedist = np.array([[np.sum((loc[i] - loc[j])**2)**0.5 for j in range(n)] for i in range(n)])\n",
    "\n",
    "            # calculate move step\n",
    "            movestep = np.zeros_like(loc)\n",
    "            total_error = 0\n",
    "            for i in range(n):\n",
    "                for j in range(n):                \n",
    "                    if realdist[i, j] <= 0.01: continue               \n",
    "                    error_rate = (fakedist[i, j] - realdist[i, j]) / fakedist[i, j]                \n",
    "                    movestep[i, 0] += ((loc[i, 0] - loc[j, 0]) / fakedist[i, j])*error_rate\n",
    "                    movestep[i, 1] += ((loc[i, 1] - loc[j, 1]) / fakedist[i, j])*error_rate\n",
    "                    total_error += abs(error_rate)\n",
    "\n",
    "            if lasterror and total_error > lasterror: break  # stop iterating if error becomes worse\n",
    "            lasterror = total_error\n",
    "\n",
    "            # update location\n",
    "            loc -= rate*movestep\n",
    "\n",
    "        # save best location\n",
    "        if minerror is None or lasterror < minerror:\n",
    "            minerror = lasterror\n",
    "            best_loc = loc\n",
    "        \n",
    "    return best_loc"
   ]
  },
  {
   "cell_type": "code",
   "execution_count": 5,
   "metadata": {
    "collapsed": false
   },
   "outputs": [
    {
     "name": "stdout",
     "output_type": "stream",
     "text": [
      "0/10, min_error=None\n",
      "1/10, min_error=7649.78682844\n",
      "2/10, min_error=7482.73900556\n",
      "3/10, min_error=7482.73900556\n",
      "4/10, min_error=7421.97924064\n",
      "5/10, min_error=7421.97924064\n",
      "6/10, min_error=7421.97924064\n",
      "7/10, min_error=7421.97924064\n",
      "8/10, min_error=7421.97924064\n",
      "9/10, min_error=7421.97924064\n",
      "[[  2.17804775e+00   1.69389490e+00]\n",
      " [  1.43444641e+00   2.36329526e+00]\n",
      " [  3.00046725e+00  -2.04849606e+00]\n",
      " [ -1.39280399e+00   2.32967070e+00]\n",
      " [  6.53469927e-01   3.74689111e+00]\n",
      " [  5.45584327e-02   1.78589135e+00]\n",
      " [ -5.47744374e-01  -2.32317002e+00]\n",
      " [  3.88781193e+00  -1.96729861e-02]\n",
      " [ -2.94823832e+00   1.08367305e+00]\n",
      " [  3.09585635e+00   5.92165337e-01]\n",
      " [  4.17811454e-01  -3.42035203e-01]\n",
      " [ -2.25045285e+00  -6.50267501e-01]\n",
      " [ -3.70000014e-01  -2.99662701e+00]\n",
      " [ -7.41818561e-01   3.44740444e+00]\n",
      " [ -2.20981859e+00   1.38248734e+00]\n",
      " [ -9.85437906e-01   3.78549453e+00]\n",
      " [  3.83419097e+00  -1.45405834e-01]\n",
      " [  3.61624046e+00   1.53101096e-01]\n",
      " [ -5.89949754e-01  -1.50212663e-01]\n",
      " [  3.11608890e+00  -7.61813663e-01]\n",
      " [  2.83762969e+00   2.50718995e+00]\n",
      " [ -2.20824236e+00   7.39853613e-01]\n",
      " [  3.28875331e-01  -5.56705715e-01]\n",
      " [  4.46065880e-02  -2.00756335e-01]\n",
      " [ -2.05347795e+00   2.46190840e+00]\n",
      " [  2.63693193e+00   4.24695507e+00]\n",
      " [ -2.51878695e+00   7.68166382e-01]\n",
      " [  5.02585937e-01   1.81360908e-01]\n",
      " [ -3.17632650e+00   5.00656093e-01]\n",
      " [  3.59654154e+00  -2.96660061e-01]\n",
      " [ -9.74414964e-01  -1.04723892e+00]\n",
      " [  5.01693607e-01   4.47429541e+00]\n",
      " [  1.12521521e+00   2.81785555e+00]\n",
      " [ -2.25845185e+00   1.67103659e+00]\n",
      " [  2.19179881e+00  -2.98394758e+00]\n",
      " [ -2.06804669e+00   3.38260110e-01]\n",
      " [  5.37116530e-01  -2.80305089e+00]\n",
      " [  2.26989537e+00   5.87313145e-01]\n",
      " [ -2.26161052e+00  -1.03966378e+00]\n",
      " [ -9.13321460e-01   2.51850461e+00]\n",
      " [  2.84858553e+00  -1.86930131e+00]\n",
      " [ -2.02093909e+00  -1.63704939e+00]\n",
      " [  2.78224774e+00  -1.63852018e+00]\n",
      " [  9.40110440e-01  -6.33345279e-01]\n",
      " [  1.00478432e+00  -8.57768089e-01]\n",
      " [  1.03824977e+00   3.93342474e+00]\n",
      " [  2.88952139e+00  -2.05858287e+00]\n",
      " [  6.48625538e-01   2.84453895e+00]\n",
      " [  2.49533915e+00   6.60723659e-01]\n",
      " [  5.00329973e-01  -1.81644785e-01]\n",
      " [  3.43863904e+00   1.63195661e+00]\n",
      " [ -2.77898331e+00   4.14971657e-01]\n",
      " [  2.00659174e+00   3.75096913e+00]\n",
      " [ -1.08349279e+00  -4.17315647e-01]\n",
      " [  1.24503017e+00   3.66984454e+00]\n",
      " [ -2.58497328e-01  -2.41317022e+00]\n",
      " [  2.35684775e+00   1.42559257e+00]\n",
      " [ -6.92863894e-03  -3.22020661e+00]\n",
      " [ -2.00387797e+00   1.64505476e+00]\n",
      " [ -1.93759373e+00  -1.04370162e+00]\n",
      " [  2.75355259e-01  -2.08929012e-01]\n",
      " [  3.24844770e+00   2.41636331e+00]\n",
      " [  1.15330349e+00   1.46983035e+00]\n",
      " [ -2.08794289e+00  -4.77715340e-01]\n",
      " [  1.52413461e+00  -3.01966910e+00]\n",
      " [ -8.43533012e-01  -2.38501801e+00]\n",
      " [  3.03193687e-01  -7.66639639e-02]\n",
      " [ -8.85737547e-01  -8.69000385e-01]\n",
      " [ -2.82576922e+00  -1.86986644e-01]\n",
      " [ -1.68320747e+00  -1.32010833e+00]\n",
      " [  1.43112014e+00  -2.26890496e+00]\n",
      " [  2.48122375e+00  -2.44296745e+00]\n",
      " [ -2.46537781e+00   1.94492298e+00]\n",
      " [  3.55766781e+00   1.12093251e+00]\n",
      " [  4.76662142e-01   4.20272221e+00]\n",
      " [ -1.18505010e+00   2.93639769e+00]\n",
      " [  3.82331362e+00   1.56464172e+00]\n",
      " [  3.03544577e-01   2.48113211e+00]\n",
      " [  1.87591641e-02   3.11470213e+00]\n",
      " [ -1.48528369e+00  -2.14375249e+00]\n",
      " [  6.01343616e+00   7.90050983e-01]\n",
      " [  2.15102157e+00  -1.60731175e+00]\n",
      " [ -2.44228315e+00  -7.11049695e-01]\n",
      " [ -1.49631769e+00   4.19220450e+00]\n",
      " [ -1.61322112e+00  -2.09866122e+00]\n",
      " [  1.38238843e+00  -2.95902823e+00]\n",
      " [  3.90360555e+00  -5.35734663e-03]\n",
      " [  1.12294107e+00   8.00865300e-01]\n",
      " [  3.24036380e+00   1.69158898e-01]\n",
      " [ -7.80002417e-01   4.32582898e+00]\n",
      " [ -1.22090402e+00   2.17037368e+00]\n",
      " [  2.25469648e+00   1.87145519e+00]\n",
      " [  2.49309401e+00   3.39928884e+00]\n",
      " [  2.76766606e+00  -2.57359956e+00]\n",
      " [  8.27225656e-01  -2.57821839e+00]\n",
      " [  1.98695862e+00   2.50161628e+00]\n",
      " [  4.84979984e-01  -2.96075397e-01]\n",
      " [  3.34112374e+00   6.83880238e-01]\n",
      " [ -3.10945965e-01  -2.00771827e+00]\n",
      " [  7.18973135e-01   3.59859029e+00]]\n"
     ]
    }
   ],
   "source": [
    "loc = scaledown(X, itera=1000, rand_time=10, verbose=1)\n",
    "print loc"
   ]
  },
  {
   "cell_type": "markdown",
   "metadata": {},
   "source": [
    "## 4. Draw in 2-D plane"
   ]
  },
  {
   "cell_type": "code",
   "execution_count": 6,
   "metadata": {
    "collapsed": false
   },
   "outputs": [
    {
     "data": {
      "image/png": "[encoded data removed]",
      "text/plain": [
       "<matplotlib.figure.Figure at 0x7fee50ee1510>"
      ]
     },
     "metadata": {},
     "output_type": "display_data"
    }
   ],
   "source": [
    "from matplotlib import pyplot as plt\n",
    "\n",
    "x = loc[:,0]\n",
    "y = loc[:,1]\n",
    "c = label\n",
    "\n",
    "fig = plt.figure()\n",
    "ax = fig.add_subplot(111)\n",
    "sc = ax.scatter(x, y, c=c, marker='o')\n",
    "ax.set_title('2-D Distance')\n",
    "fig.colorbar(sc)\n",
    "plt.show()"
   ]
  },
  {
   "cell_type": "markdown",
   "metadata": {},
   "source": [
    "## Reference\n",
    "\n",
    "[1] Toby Segaran, Programming Collective Intelgience"
   ]
  },
  {
   "cell_type": "code",
   "execution_count": null,
   "metadata": {
    "collapsed": true
   },
   "outputs": [],
   "source": []
  },
  {
   "cell_type": "code",
   "execution_count": null,
   "metadata": {
    "collapsed": true
   },
   "outputs": [],
   "source": []
  },
  {
   "cell_type": "code",
   "execution_count": null,
   "metadata": {
    "collapsed": true
   },
   "outputs": [],
   "source": []
  },
  {
   "cell_type": "code",
   "execution_count": null,
   "metadata": {
    "collapsed": true
   },
   "outputs": [],
   "source": []
  },
  {
   "cell_type": "code",
   "execution_count": null,
   "metadata": {
    "collapsed": true
   },
   "outputs": [],
   "source": []
  },
  {
   "cell_type": "code",
   "execution_count": null,
   "metadata": {
    "collapsed": true
   },
   "outputs": [],
   "source": []
  },
  {
   "cell_type": "code",
   "execution_count": null,
   "metadata": {
    "collapsed": true
   },
   "outputs": [],
   "source": []
  },
  {
   "cell_type": "code",
   "execution_count": null,
   "metadata": {
    "collapsed": true
   },
   "outputs": [],
   "source": []
  }
 ],
 "metadata": {
  "kernelspec": {
   "display_name": "Python 2",
   "language": "python",
   "name": "python2"
  },
  "language_info": {
   "codemirror_mode": {
    "name": "ipython",
    "version": 2
   },
   "file_extension": ".py",
   "mimetype": "text/x-python",
   "name": "python",
   "nbconvert_exporter": "python",
   "pygments_lexer": "ipython2",
   "version": "2.7.12+"
  }
 },
 "nbformat": 4,
 "nbformat_minor": 2
}
