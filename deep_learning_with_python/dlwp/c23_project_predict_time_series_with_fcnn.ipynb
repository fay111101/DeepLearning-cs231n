{
 "cells": [
  {
   "cell_type": "markdown",
   "metadata": {},
   "source": [
    "# Chapter 24: Time Series Prediction with Multilayer Perceptions"
   ]
  },
  {
   "cell_type": "markdown",
   "metadata": {},
   "source": [
    "## 1. Preparation\n",
    "\n",
    "### Import"
   ]
  },
  {
   "cell_type": "code",
   "execution_count": 71,
   "metadata": {
    "collapsed": false
   },
   "outputs": [],
   "source": [
    "import numpy as np\n",
    "import pandas as pd\n",
    "from matplotlib import pyplot as plt\n",
    "%matplotlib inline\n",
    "import math\n",
    "from keras.models import Sequential\n",
    "from keras.layers import Dense\n",
    "\n",
    "# fix random seed\n",
    "seed = 7\n",
    "np.random.seed(seed)\n",
    "\n",
    "# gloabl setting\n",
    "look_back = 8  # the number of time step that be used for predict"
   ]
  },
  {
   "cell_type": "markdown",
   "metadata": {},
   "source": [
    "### Download Dataset\n",
    "\n",
    "Download csv formatting international airline passengers data from [here](https://datamarket.com/data/set/22u3/international-airline-passengers-monthly-totals-in-thousands-jan-49-dec-60#!ds=22u3&display=line), and stored at ./data_set directory. The file name is \"international-airline-passengers.csv\"."
   ]
  },
  {
   "cell_type": "code",
   "execution_count": 72,
   "metadata": {
    "collapsed": false
   },
   "outputs": [
    {
     "data": {
      "image/png": "[encoded data removed]",
      "text/plain": [
       "<matplotlib.figure.Figure at 0x7f34bb74c9d0>"
      ]
     },
     "metadata": {},
     "output_type": "display_data"
    },
    {
     "name": "stdout",
     "output_type": "stream",
     "text": [
      "(144, 1)\n"
     ]
    }
   ],
   "source": [
    "dataframe = pd.read_csv('./data_set/international-airline-passengers.csv', usecols=[1], engine='python', skipfooter=3)\n",
    "dataset = dataframe.values.astype('float32')\n",
    "plt.plot(dataset)\n",
    "plt.show()\n",
    "print dataset.shape"
   ]
  },
  {
   "cell_type": "markdown",
   "metadata": {},
   "source": [
    "## Prepare Dataset"
   ]
  },
  {
   "cell_type": "code",
   "execution_count": 73,
   "metadata": {
    "collapsed": false
   },
   "outputs": [],
   "source": [
    "# split dataset\n",
    "split_point = int(len(dataset) * 0.67)\n",
    "data_train = dataset[0: split_point]\n",
    "data_val = dataset[split_point: ]"
   ]
  },
  {
   "cell_type": "markdown",
   "metadata": {},
   "source": [
    "Transform dataset to standard training format."
   ]
  },
  {
   "cell_type": "code",
   "execution_count": 74,
   "metadata": {
    "collapsed": false
   },
   "outputs": [
    {
     "name": "stdout",
     "output_type": "stream",
     "text": [
      "[[ 112.  118.  132.  129.  121.  135.  148.  148.]\n",
      " [ 118.  132.  129.  121.  135.  148.  148.  136.]\n",
      " [ 132.  129.  121.  135.  148.  148.  136.  119.]\n",
      " [ 129.  121.  135.  148.  148.  136.  119.  104.]\n",
      " [ 121.  135.  148.  148.  136.  119.  104.  118.]] [ 136.  119.  104.  118.  115.]\n"
     ]
    }
   ],
   "source": [
    "def create_dataset(time_series, look_back=1):\n",
    "    '''transform time_series to matrix data format '''\n",
    "    time_series = np.array(time_series).reshape((len(time_series), ))\n",
    "    X, Y = [], []\n",
    "    for i in range(0, len(time_series) - look_back - 1):\n",
    "        X.append(time_series[i: i+look_back])\n",
    "        Y.append(time_series[i+look_back])\n",
    "    return np.array(X), np.array(Y)\n",
    "\n",
    "X_train, Y_train = create_dataset(data_train, look_back)\n",
    "X_val, Y_val = create_dataset(data_val, look_back)\n",
    "\n",
    "print X_train[0: 5], Y_train[0: 5]"
   ]
  },
  {
   "cell_type": "markdown",
   "metadata": {
    "collapsed": true
   },
   "source": [
    "## 2. Build a FC Model"
   ]
  },
  {
   "cell_type": "code",
   "execution_count": 75,
   "metadata": {
    "collapsed": false
   },
   "outputs": [
    {
     "name": "stdout",
     "output_type": "stream",
     "text": [
      "____________________________________________________________________________________________________\n",
      "Layer (type)                     Output Shape          Param #     Connected to                     \n",
      "====================================================================================================\n",
      "dense_24 (Dense)                 (None, 16)            144         dense_input_10[0][0]             \n",
      "____________________________________________________________________________________________________\n",
      "dense_25 (Dense)                 (None, 32)            544         dense_24[0][0]                   \n",
      "____________________________________________________________________________________________________\n",
      "dense_26 (Dense)                 (None, 32)            1056        dense_25[0][0]                   \n",
      "____________________________________________________________________________________________________\n",
      "dense_27 (Dense)                 (None, 1)             33          dense_26[0][0]                   \n",
      "====================================================================================================\n",
      "Total params: 1777\n",
      "____________________________________________________________________________________________________\n",
      "None\n"
     ]
    }
   ],
   "source": [
    "# define a fc model\n",
    "def create_fc_model():\n",
    "    model = Sequential()\n",
    "    model.add(Dense(16, input_dim=look_back, init='normal', activation='relu'))\n",
    "    model.add(Dense(32, init='normal', activation='relu'))\n",
    "    model.add(Dense(32, init='normal', activation='relu'))\n",
    "    model.add(Dense(1, init='normal'))\n",
    "    model.compile(loss='mse', optimizer='adam', metrics=['mae'])\n",
    "    print(model.summary())\n",
    "    return model\n",
    "\n",
    "fcnn = create_fc_model()"
   ]
  },
  {
   "cell_type": "code",
   "execution_count": 76,
   "metadata": {
    "collapsed": false
   },
   "outputs": [
    {
     "name": "stdout",
     "output_type": "stream",
     "text": [
      "Train on 87 samples, validate on 39 samples\n",
      "Epoch 1/150\n",
      "87/87 [==============================] - 0s - loss: 53303.5271 - mean_absolute_error: 220.1283 - val_loss: 182104.5813 - val_mean_absolute_error: 419.2061\n",
      "Epoch 2/150\n",
      "87/87 [==============================] - 0s - loss: 52935.6273 - mean_absolute_error: 219.3531 - val_loss: 179889.7179 - val_mean_absolute_error: 416.5660\n",
      "Epoch 3/150\n",
      "87/87 [==============================] - 0s - loss: 51891.9555 - mean_absolute_error: 217.1527 - val_loss: 174067.0493 - val_mean_absolute_error: 409.5502\n",
      "Epoch 4/150\n",
      "87/87 [==============================] - 0s - loss: 49411.4306 - mean_absolute_error: 211.6949 - val_loss: 160426.3061 - val_mean_absolute_error: 392.6194\n",
      "Epoch 5/150\n",
      "87/87 [==============================] - 0s - loss: 43774.3535 - mean_absolute_error: 199.1437 - val_loss: 133025.1174 - val_mean_absolute_error: 356.1663\n",
      "Epoch 6/150\n",
      "87/87 [==============================] - 0s - loss: 33862.0921 - mean_absolute_error: 173.6297 - val_loss: 86831.8704 - val_mean_absolute_error: 284.2231\n",
      "Epoch 7/150\n",
      "87/87 [==============================] - 0s - loss: 18966.9340 - mean_absolute_error: 126.2369 - val_loss: 31445.5882 - val_mean_absolute_error: 159.1757\n",
      "Epoch 8/150\n",
      "87/87 [==============================] - 0s - loss: 4580.4833 - mean_absolute_error: 54.2050 - val_loss: 6745.5590 - val_mean_absolute_error: 68.5078\n",
      "Epoch 9/150\n",
      "87/87 [==============================] - 0s - loss: 2017.1155 - mean_absolute_error: 35.9671 - val_loss: 13873.8068 - val_mean_absolute_error: 104.0668\n",
      "Epoch 10/150\n",
      "87/87 [==============================] - 0s - loss: 2324.2610 - mean_absolute_error: 38.4473 - val_loss: 7322.4439 - val_mean_absolute_error: 73.9835\n",
      "Epoch 11/150\n",
      "87/87 [==============================] - 0s - loss: 1387.6079 - mean_absolute_error: 28.5670 - val_loss: 6864.8591 - val_mean_absolute_error: 66.1681\n",
      "Epoch 12/150\n",
      "87/87 [==============================] - 0s - loss: 1537.2486 - mean_absolute_error: 30.1735 - val_loss: 6626.2536 - val_mean_absolute_error: 66.6672\n",
      "Epoch 13/150\n",
      "87/87 [==============================] - 0s - loss: 1392.0158 - mean_absolute_error: 28.7445 - val_loss: 6782.4540 - val_mean_absolute_error: 69.0079\n",
      "Epoch 14/150\n",
      "87/87 [==============================] - 0s - loss: 1401.4944 - mean_absolute_error: 28.9805 - val_loss: 6900.1604 - val_mean_absolute_error: 70.4484\n",
      "Epoch 15/150\n",
      "87/87 [==============================] - 0s - loss: 1363.1749 - mean_absolute_error: 28.6138 - val_loss: 6621.8686 - val_mean_absolute_error: 67.7932\n",
      "Epoch 16/150\n",
      "87/87 [==============================] - 0s - loss: 1355.6274 - mean_absolute_error: 28.4724 - val_loss: 6612.6220 - val_mean_absolute_error: 67.7852\n",
      "Epoch 17/150\n",
      "87/87 [==============================] - 0s - loss: 1360.4559 - mean_absolute_error: 28.4690 - val_loss: 6631.1245 - val_mean_absolute_error: 68.0043\n",
      "Epoch 18/150\n",
      "87/87 [==============================] - 0s - loss: 1344.0056 - mean_absolute_error: 28.3055 - val_loss: 6562.9930 - val_mean_absolute_error: 67.4657\n",
      "Epoch 19/150\n",
      "87/87 [==============================] - 0s - loss: 1352.8537 - mean_absolute_error: 28.3565 - val_loss: 6515.8938 - val_mean_absolute_error: 67.0321\n",
      "Epoch 20/150\n",
      "87/87 [==============================] - 0s - loss: 1337.5560 - mean_absolute_error: 28.2523 - val_loss: 6582.5433 - val_mean_absolute_error: 67.8002\n",
      "Epoch 21/150\n",
      "87/87 [==============================] - 0s - loss: 1358.6745 - mean_absolute_error: 28.4742 - val_loss: 6701.8145 - val_mean_absolute_error: 69.1499\n",
      "Epoch 22/150\n",
      "87/87 [==============================] - 0s - loss: 1335.7786 - mean_absolute_error: 28.1176 - val_loss: 6493.7901 - val_mean_absolute_error: 67.1375\n",
      "Epoch 23/150\n",
      "87/87 [==============================] - 0s - loss: 1349.5305 - mean_absolute_error: 28.3124 - val_loss: 6487.5839 - val_mean_absolute_error: 67.1583\n",
      "Epoch 24/150\n",
      "87/87 [==============================] - 0s - loss: 1322.7182 - mean_absolute_error: 28.0202 - val_loss: 6399.9915 - val_mean_absolute_error: 66.2316\n",
      "Epoch 25/150\n",
      "87/87 [==============================] - 0s - loss: 1320.9011 - mean_absolute_error: 28.0250 - val_loss: 6470.1743 - val_mean_absolute_error: 67.2135\n",
      "Epoch 26/150\n",
      "87/87 [==============================] - 0s - loss: 1323.1465 - mean_absolute_error: 28.0905 - val_loss: 6499.5685 - val_mean_absolute_error: 67.5839\n",
      "Epoch 27/150\n",
      "87/87 [==============================] - 0s - loss: 1340.7137 - mean_absolute_error: 28.0667 - val_loss: 6484.2915 - val_mean_absolute_error: 67.5482\n",
      "Epoch 28/150\n",
      "87/87 [==============================] - 0s - loss: 1339.0423 - mean_absolute_error: 28.5248 - val_loss: 6297.7749 - val_mean_absolute_error: 64.9696\n",
      "Epoch 29/150\n",
      "87/87 [==============================] - 0s - loss: 1353.6297 - mean_absolute_error: 28.0743 - val_loss: 6491.5857 - val_mean_absolute_error: 67.9372\n",
      "Epoch 30/150\n",
      "87/87 [==============================] - 0s - loss: 1299.4441 - mean_absolute_error: 27.7352 - val_loss: 6377.2236 - val_mean_absolute_error: 66.8444\n",
      "Epoch 31/150\n",
      "87/87 [==============================] - 0s - loss: 1368.4876 - mean_absolute_error: 28.3647 - val_loss: 6233.3957 - val_mean_absolute_error: 64.8503\n",
      "Epoch 32/150\n",
      "87/87 [==============================] - 0s - loss: 1317.1663 - mean_absolute_error: 27.8260 - val_loss: 6748.3733 - val_mean_absolute_error: 71.0368\n",
      "Epoch 33/150\n",
      "87/87 [==============================] - 0s - loss: 1364.2266 - mean_absolute_error: 28.1887 - val_loss: 6221.3923 - val_mean_absolute_error: 65.4292\n",
      "Epoch 34/150\n",
      "87/87 [==============================] - 0s - loss: 1320.7573 - mean_absolute_error: 27.8002 - val_loss: 6370.8052 - val_mean_absolute_error: 67.3693\n",
      "Epoch 35/150\n",
      "87/87 [==============================] - 0s - loss: 1319.4104 - mean_absolute_error: 27.9713 - val_loss: 6148.5605 - val_mean_absolute_error: 64.6645\n",
      "Epoch 36/150\n",
      "87/87 [==============================] - 0s - loss: 1353.5942 - mean_absolute_error: 28.1352 - val_loss: 6395.2803 - val_mean_absolute_error: 68.0159\n",
      "Epoch 37/150\n",
      "87/87 [==============================] - 0s - loss: 1281.8503 - mean_absolute_error: 27.7526 - val_loss: 6163.9725 - val_mean_absolute_error: 65.4759\n",
      "Epoch 38/150\n",
      "87/87 [==============================] - 0s - loss: 1270.0184 - mean_absolute_error: 27.3545 - val_loss: 6122.1023 - val_mean_absolute_error: 65.1006\n",
      "Epoch 39/150\n",
      "87/87 [==============================] - 0s - loss: 1273.6923 - mean_absolute_error: 27.3297 - val_loss: 6083.4170 - val_mean_absolute_error: 64.7313\n",
      "Epoch 40/150\n",
      "87/87 [==============================] - 0s - loss: 1263.8937 - mean_absolute_error: 27.1990 - val_loss: 6202.7987 - val_mean_absolute_error: 66.4571\n",
      "Epoch 41/150\n",
      "87/87 [==============================] - 0s - loss: 1262.8080 - mean_absolute_error: 27.0640 - val_loss: 6075.1238 - val_mean_absolute_error: 65.0566\n",
      "Epoch 42/150\n",
      "87/87 [==============================] - 0s - loss: 1260.4375 - mean_absolute_error: 27.2257 - val_loss: 6125.4573 - val_mean_absolute_error: 65.8719\n",
      "Epoch 43/150\n",
      "87/87 [==============================] - 0s - loss: 1250.2971 - mean_absolute_error: 27.1438 - val_loss: 6095.6866 - val_mean_absolute_error: 65.6934\n",
      "Epoch 44/150\n",
      "87/87 [==============================] - 0s - loss: 1273.1760 - mean_absolute_error: 27.4206 - val_loss: 5943.6701 - val_mean_absolute_error: 63.5796\n",
      "Epoch 45/150\n",
      "87/87 [==============================] - 0s - loss: 1293.2531 - mean_absolute_error: 27.2062 - val_loss: 6273.5238 - val_mean_absolute_error: 68.0553\n",
      "Epoch 46/150\n",
      "87/87 [==============================] - 0s - loss: 1241.2253 - mean_absolute_error: 26.8950 - val_loss: 5905.3857 - val_mean_absolute_error: 63.6036\n",
      "Epoch 47/150\n",
      "87/87 [==============================] - 0s - loss: 1272.2895 - mean_absolute_error: 27.1814 - val_loss: 5911.3597 - val_mean_absolute_error: 64.0181\n",
      "Epoch 48/150\n",
      "87/87 [==============================] - 0s - loss: 1241.7807 - mean_absolute_error: 26.9077 - val_loss: 5864.9435 - val_mean_absolute_error: 63.4913\n",
      "Epoch 49/150\n",
      "87/87 [==============================] - 0s - loss: 1285.1166 - mean_absolute_error: 27.5803 - val_loss: 6153.1417 - val_mean_absolute_error: 67.3501\n",
      "Epoch 50/150\n",
      "87/87 [==============================] - 0s - loss: 1221.7260 - mean_absolute_error: 26.8288 - val_loss: 5792.6925 - val_mean_absolute_error: 62.3472\n",
      "Epoch 51/150\n",
      "87/87 [==============================] - 0s - loss: 1231.5163 - mean_absolute_error: 26.6269 - val_loss: 5837.3755 - val_mean_absolute_error: 63.8998\n",
      "Epoch 52/150\n",
      "87/87 [==============================] - 0s - loss: 1199.2312 - mean_absolute_error: 26.5242 - val_loss: 5952.0577 - val_mean_absolute_error: 65.5726\n",
      "Epoch 53/150\n",
      "87/87 [==============================] - 0s - loss: 1211.3363 - mean_absolute_error: 26.7162 - val_loss: 5808.4829 - val_mean_absolute_error: 63.9652\n",
      "Epoch 54/150\n",
      "87/87 [==============================] - 0s - loss: 1228.7636 - mean_absolute_error: 26.9176 - val_loss: 5941.4478 - val_mean_absolute_error: 65.8071\n",
      "Epoch 55/150\n",
      "87/87 [==============================] - 0s - loss: 1231.3242 - mean_absolute_error: 26.7654 - val_loss: 5676.1403 - val_mean_absolute_error: 61.2265\n",
      "Epoch 56/150\n",
      "87/87 [==============================] - 0s - loss: 1239.8708 - mean_absolute_error: 26.8325 - val_loss: 5911.9490 - val_mean_absolute_error: 65.7869\n",
      "Epoch 57/150\n",
      "87/87 [==============================] - 0s - loss: 1196.2495 - mean_absolute_error: 26.5600 - val_loss: 5644.6781 - val_mean_absolute_error: 62.2318\n",
      "Epoch 58/150\n",
      "87/87 [==============================] - 0s - loss: 1189.2437 - mean_absolute_error: 26.2364 - val_loss: 5738.1357 - val_mean_absolute_error: 64.0681\n",
      "Epoch 59/150\n",
      "87/87 [==============================] - 0s - loss: 1192.2357 - mean_absolute_error: 26.1408 - val_loss: 5617.8065 - val_mean_absolute_error: 62.5174\n",
      "Epoch 60/150\n",
      "87/87 [==============================] - 0s - loss: 1185.2451 - mean_absolute_error: 26.2320 - val_loss: 5629.2911 - val_mean_absolute_error: 63.0047\n",
      "Epoch 61/150\n",
      "87/87 [==============================] - 0s - loss: 1187.5420 - mean_absolute_error: 26.1194 - val_loss: 5769.7261 - val_mean_absolute_error: 64.9931\n",
      "Epoch 62/150\n",
      "87/87 [==============================] - 0s - loss: 1179.5348 - mean_absolute_error: 26.1523 - val_loss: 5522.5803 - val_mean_absolute_error: 61.5712\n",
      "Epoch 63/150\n",
      "87/87 [==============================] - 0s - loss: 1167.3254 - mean_absolute_error: 25.9659 - val_loss: 5682.6778 - val_mean_absolute_error: 64.3153\n",
      "Epoch 64/150\n",
      "87/87 [==============================] - 0s - loss: 1146.7527 - mean_absolute_error: 25.9231 - val_loss: 5525.2581 - val_mean_absolute_error: 62.4173\n",
      "Epoch 65/150\n",
      "87/87 [==============================] - 0s - loss: 1156.7958 - mean_absolute_error: 25.8231 - val_loss: 5483.3593 - val_mean_absolute_error: 61.9917\n",
      "Epoch 66/150\n",
      "87/87 [==============================] - 0s - loss: 1154.2471 - mean_absolute_error: 25.8199 - val_loss: 5488.8902 - val_mean_absolute_error: 62.3434\n",
      "Epoch 67/150\n",
      "87/87 [==============================] - 0s - loss: 1159.2873 - mean_absolute_error: 25.6267 - val_loss: 5384.5344 - val_mean_absolute_error: 59.9981\n",
      "Epoch 68/150\n",
      "87/87 [==============================] - 0s - loss: 1149.8777 - mean_absolute_error: 25.8173 - val_loss: 5557.2502 - val_mean_absolute_error: 63.6747\n",
      "Epoch 69/150\n",
      "87/87 [==============================] - 0s - loss: 1129.0854 - mean_absolute_error: 25.6243 - val_loss: 5417.9279 - val_mean_absolute_error: 62.0095\n",
      "Epoch 70/150\n",
      "87/87 [==============================] - 0s - loss: 1137.9078 - mean_absolute_error: 25.5008 - val_loss: 5393.4738 - val_mean_absolute_error: 61.8933\n",
      "Epoch 71/150\n",
      "87/87 [==============================] - 0s - loss: 1153.0222 - mean_absolute_error: 25.9225 - val_loss: 5536.9700 - val_mean_absolute_error: 63.9302\n",
      "Epoch 72/150\n",
      "87/87 [==============================] - 0s - loss: 1111.3775 - mean_absolute_error: 25.1859 - val_loss: 5261.6955 - val_mean_absolute_error: 59.3647\n",
      "Epoch 73/150\n",
      "87/87 [==============================] - 0s - loss: 1123.0798 - mean_absolute_error: 25.0656 - val_loss: 5335.8196 - val_mean_absolute_error: 61.7753\n",
      "Epoch 74/150\n",
      "87/87 [==============================] - 0s - loss: 1115.7646 - mean_absolute_error: 25.2460 - val_loss: 5293.4450 - val_mean_absolute_error: 61.3457\n",
      "Epoch 75/150\n",
      "87/87 [==============================] - 0s - loss: 1118.3940 - mean_absolute_error: 25.4972 - val_loss: 5428.9950 - val_mean_absolute_error: 63.3315\n",
      "Epoch 76/150\n",
      "87/87 [==============================] - 0s - loss: 1103.5794 - mean_absolute_error: 25.1872 - val_loss: 5167.1163 - val_mean_absolute_error: 59.3250\n",
      "Epoch 77/150\n",
      "87/87 [==============================] - 0s - loss: 1089.4338 - mean_absolute_error: 24.8724 - val_loss: 5262.2624 - val_mean_absolute_error: 61.6364\n",
      "Epoch 78/150\n",
      "87/87 [==============================] - 0s - loss: 1095.4706 - mean_absolute_error: 25.3304 - val_loss: 5207.6517 - val_mean_absolute_error: 61.0628\n",
      "Epoch 79/150\n",
      "87/87 [==============================] - 0s - loss: 1114.4476 - mean_absolute_error: 25.3220 - val_loss: 5100.3309 - val_mean_absolute_error: 59.2728\n",
      "Epoch 80/150\n",
      "87/87 [==============================] - 0s - loss: 1117.5040 - mean_absolute_error: 25.3221 - val_loss: 5250.9762 - val_mean_absolute_error: 62.0704\n",
      "Epoch 81/150\n",
      "87/87 [==============================] - 0s - loss: 1076.1010 - mean_absolute_error: 24.8675 - val_loss: 5079.2326 - val_mean_absolute_error: 59.7559\n",
      "Epoch 82/150\n",
      "87/87 [==============================] - 0s - loss: 1071.2646 - mean_absolute_error: 24.7626 - val_loss: 5094.0319 - val_mean_absolute_error: 60.3370\n",
      "Epoch 83/150\n",
      "87/87 [==============================] - 0s - loss: 1078.0691 - mean_absolute_error: 24.9548 - val_loss: 5110.5356 - val_mean_absolute_error: 60.8165\n",
      "Epoch 84/150\n",
      "87/87 [==============================] - 0s - loss: 1072.7072 - mean_absolute_error: 24.6176 - val_loss: 4988.8463 - val_mean_absolute_error: 58.9751\n",
      "Epoch 85/150\n",
      "87/87 [==============================] - 0s - loss: 1053.0318 - mean_absolute_error: 24.4218 - val_loss: 4974.5504 - val_mean_absolute_error: 59.0692\n",
      "Epoch 86/150\n",
      "87/87 [==============================] - 0s - loss: 1049.6824 - mean_absolute_error: 24.5330 - val_loss: 5028.7070 - val_mean_absolute_error: 60.3055\n",
      "Epoch 87/150\n",
      "87/87 [==============================] - 0s - loss: 1042.4110 - mean_absolute_error: 24.5000 - val_loss: 5015.4043 - val_mean_absolute_error: 60.3118\n",
      "Epoch 88/150\n",
      "87/87 [==============================] - 0s - loss: 1041.9251 - mean_absolute_error: 24.4020 - val_loss: 4937.3133 - val_mean_absolute_error: 59.3356\n",
      "Epoch 89/150\n",
      "87/87 [==============================] - 0s - loss: 1034.7809 - mean_absolute_error: 24.3198 - val_loss: 4939.8043 - val_mean_absolute_error: 59.6604\n",
      "Epoch 90/150\n",
      "87/87 [==============================] - 0s - loss: 1029.3428 - mean_absolute_error: 24.1901 - val_loss: 4835.0412 - val_mean_absolute_error: 57.9588\n",
      "Epoch 91/150\n",
      "87/87 [==============================] - 0s - loss: 1022.9596 - mean_absolute_error: 24.0223 - val_loss: 4828.7524 - val_mean_absolute_error: 58.2620\n",
      "Epoch 92/150\n",
      "87/87 [==============================] - 0s - loss: 1022.6861 - mean_absolute_error: 24.0966 - val_loss: 4882.6134 - val_mean_absolute_error: 59.4952\n",
      "Epoch 93/150\n",
      "87/87 [==============================] - 0s - loss: 1015.2952 - mean_absolute_error: 24.0894 - val_loss: 4752.9977 - val_mean_absolute_error: 57.3206\n",
      "Epoch 94/150\n",
      "87/87 [==============================] - 0s - loss: 1089.1155 - mean_absolute_error: 24.8287 - val_loss: 4914.8162 - val_mean_absolute_error: 60.2966\n",
      "Epoch 95/150\n",
      "87/87 [==============================] - 0s - loss: 1010.8570 - mean_absolute_error: 23.7471 - val_loss: 4690.8219 - val_mean_absolute_error: 55.8799\n",
      "Epoch 96/150\n",
      "87/87 [==============================] - 0s - loss: 1014.6390 - mean_absolute_error: 24.0844 - val_loss: 4781.5636 - val_mean_absolute_error: 58.9006\n",
      "Epoch 97/150\n",
      "87/87 [==============================] - 0s - loss: 1014.7426 - mean_absolute_error: 23.7361 - val_loss: 4671.7197 - val_mean_absolute_error: 57.2198\n",
      "Epoch 98/150\n",
      "87/87 [==============================] - 0s - loss: 983.0149 - mean_absolute_error: 23.5961 - val_loss: 4747.8867 - val_mean_absolute_error: 58.8209\n",
      "Epoch 99/150\n",
      "87/87 [==============================] - 0s - loss: 1000.3705 - mean_absolute_error: 23.8394 - val_loss: 4672.8721 - val_mean_absolute_error: 57.9352\n",
      "Epoch 100/150\n",
      "87/87 [==============================] - 0s - loss: 985.8300 - mean_absolute_error: 23.7562 - val_loss: 4736.9064 - val_mean_absolute_error: 59.0487\n",
      "Epoch 101/150\n",
      "87/87 [==============================] - 0s - loss: 976.7262 - mean_absolute_error: 23.5393 - val_loss: 4596.6197 - val_mean_absolute_error: 57.1709\n",
      "Epoch 102/150\n",
      "87/87 [==============================] - 0s - loss: 982.9813 - mean_absolute_error: 23.4861 - val_loss: 4522.9773 - val_mean_absolute_error: 55.5407\n",
      "Epoch 103/150\n",
      "87/87 [==============================] - 0s - loss: 985.3456 - mean_absolute_error: 23.7192 - val_loss: 4631.5795 - val_mean_absolute_error: 58.1589\n",
      "Epoch 104/150\n",
      "87/87 [==============================] - 0s - loss: 981.8950 - mean_absolute_error: 23.7385 - val_loss: 4502.7429 - val_mean_absolute_error: 56.2610\n",
      "Epoch 105/150\n",
      "87/87 [==============================] - 0s - loss: 965.6514 - mean_absolute_error: 23.1867 - val_loss: 4481.6346 - val_mean_absolute_error: 56.1740\n",
      "Epoch 106/150\n",
      "87/87 [==============================] - 0s - loss: 952.7980 - mean_absolute_error: 23.1502 - val_loss: 4499.7343 - val_mean_absolute_error: 56.8663\n",
      "Epoch 107/150\n",
      "87/87 [==============================] - 0s - loss: 948.2700 - mean_absolute_error: 23.1988 - val_loss: 4457.5362 - val_mean_absolute_error: 56.4142\n",
      "Epoch 108/150\n",
      "87/87 [==============================] - 0s - loss: 938.1513 - mean_absolute_error: 22.9272 - val_loss: 4386.9016 - val_mean_absolute_error: 55.1672\n",
      "Epoch 109/150\n",
      "87/87 [==============================] - 0s - loss: 957.0917 - mean_absolute_error: 23.0444 - val_loss: 4450.5497 - val_mean_absolute_error: 56.7702\n",
      "Epoch 110/150\n",
      "87/87 [==============================] - 0s - loss: 968.6537 - mean_absolute_error: 23.5684 - val_loss: 4342.2838 - val_mean_absolute_error: 54.9830\n",
      "Epoch 111/150\n",
      "87/87 [==============================] - 0s - loss: 929.0187 - mean_absolute_error: 22.6626 - val_loss: 4295.9273 - val_mean_absolute_error: 53.8043\n",
      "Epoch 112/150\n",
      "87/87 [==============================] - 0s - loss: 935.9779 - mean_absolute_error: 22.8678 - val_loss: 4392.2531 - val_mean_absolute_error: 56.4847\n",
      "Epoch 113/150\n",
      "87/87 [==============================] - 0s - loss: 920.1198 - mean_absolute_error: 22.8507 - val_loss: 4314.0544 - val_mean_absolute_error: 55.5072\n",
      "Epoch 114/150\n",
      "87/87 [==============================] - 0s - loss: 989.0694 - mean_absolute_error: 23.5297 - val_loss: 4222.8006 - val_mean_absolute_error: 53.0536\n",
      "Epoch 115/150\n",
      "87/87 [==============================] - 0s - loss: 947.8255 - mean_absolute_error: 23.1371 - val_loss: 4472.0987 - val_mean_absolute_error: 57.8534\n",
      "Epoch 116/150\n",
      "87/87 [==============================] - 0s - loss: 927.2789 - mean_absolute_error: 22.8282 - val_loss: 4184.2165 - val_mean_absolute_error: 53.5807\n",
      "Epoch 117/150\n",
      "87/87 [==============================] - 0s - loss: 913.0297 - mean_absolute_error: 22.5748 - val_loss: 4347.3035 - val_mean_absolute_error: 56.6792\n",
      "Epoch 118/150\n",
      "87/87 [==============================] - 0s - loss: 902.5561 - mean_absolute_error: 22.4498 - val_loss: 4128.6862 - val_mean_absolute_error: 52.7363\n",
      "Epoch 119/150\n",
      "87/87 [==============================] - 0s - loss: 912.0333 - mean_absolute_error: 22.5427 - val_loss: 4117.8125 - val_mean_absolute_error: 53.2754\n",
      "Epoch 120/150\n",
      "87/87 [==============================] - 0s - loss: 902.6507 - mean_absolute_error: 22.4490 - val_loss: 4221.6576 - val_mean_absolute_error: 55.4878\n",
      "Epoch 121/150\n",
      "87/87 [==============================] - 0s - loss: 885.7978 - mean_absolute_error: 22.1687 - val_loss: 4100.4085 - val_mean_absolute_error: 53.7539\n",
      "Epoch 122/150\n",
      "87/87 [==============================] - 0s - loss: 886.8512 - mean_absolute_error: 22.1540 - val_loss: 4081.7056 - val_mean_absolute_error: 53.6667\n",
      "Epoch 123/150\n",
      "87/87 [==============================] - 0s - loss: 881.5633 - mean_absolute_error: 22.0384 - val_loss: 4023.3405 - val_mean_absolute_error: 52.5973\n",
      "Epoch 124/150\n",
      "87/87 [==============================] - 0s - loss: 915.8975 - mean_absolute_error: 22.6938 - val_loss: 4031.2335 - val_mean_absolute_error: 53.2758\n",
      "Epoch 125/150\n",
      "87/87 [==============================] - 0s - loss: 867.0026 - mean_absolute_error: 22.0650 - val_loss: 3957.8099 - val_mean_absolute_error: 51.3825\n",
      "Epoch 126/150\n",
      "87/87 [==============================] - 0s - loss: 881.7500 - mean_absolute_error: 22.3287 - val_loss: 4186.8052 - val_mean_absolute_error: 55.7282\n",
      "Epoch 127/150\n",
      "87/87 [==============================] - 0s - loss: 848.0648 - mean_absolute_error: 21.8553 - val_loss: 3915.9395 - val_mean_absolute_error: 51.3856\n",
      "Epoch 128/150\n",
      "87/87 [==============================] - 0s - loss: 860.7510 - mean_absolute_error: 22.0248 - val_loss: 3937.3219 - val_mean_absolute_error: 52.5454\n",
      "Epoch 129/150\n",
      "87/87 [==============================] - 0s - loss: 855.3252 - mean_absolute_error: 21.8516 - val_loss: 3911.9338 - val_mean_absolute_error: 52.3065\n",
      "Epoch 130/150\n",
      "87/87 [==============================] - 0s - loss: 865.5915 - mean_absolute_error: 22.1448 - val_loss: 3954.9538 - val_mean_absolute_error: 53.2613\n",
      "Epoch 131/150\n",
      "87/87 [==============================] - 0s - loss: 841.0474 - mean_absolute_error: 21.6575 - val_loss: 3826.2280 - val_mean_absolute_error: 50.6597\n",
      "Epoch 132/150\n",
      "87/87 [==============================] - 0s - loss: 846.3123 - mean_absolute_error: 21.8383 - val_loss: 3807.7638 - val_mean_absolute_error: 50.6528\n",
      "Epoch 133/150\n",
      "87/87 [==============================] - 0s - loss: 858.6645 - mean_absolute_error: 22.0041 - val_loss: 3795.8817 - val_mean_absolute_error: 50.9088\n",
      "Epoch 134/150\n",
      "87/87 [==============================] - 0s - loss: 831.2518 - mean_absolute_error: 21.6352 - val_loss: 3899.3876 - val_mean_absolute_error: 53.0184\n",
      "Epoch 135/150\n",
      "87/87 [==============================] - 0s - loss: 824.4830 - mean_absolute_error: 21.4593 - val_loss: 3756.8565 - val_mean_absolute_error: 50.7047\n",
      "Epoch 136/150\n",
      "87/87 [==============================] - 0s - loss: 816.1560 - mean_absolute_error: 21.4484 - val_loss: 3774.5513 - val_mean_absolute_error: 51.4099\n",
      "Epoch 137/150\n",
      "87/87 [==============================] - 0s - loss: 860.1632 - mean_absolute_error: 22.0220 - val_loss: 3701.8141 - val_mean_absolute_error: 49.9576\n",
      "Epoch 138/150\n",
      "87/87 [==============================] - 0s - loss: 804.7228 - mean_absolute_error: 21.2080 - val_loss: 3865.8893 - val_mean_absolute_error: 52.9722\n",
      "Epoch 139/150\n",
      "87/87 [==============================] - 0s - loss: 833.3157 - mean_absolute_error: 21.9041 - val_loss: 3656.0018 - val_mean_absolute_error: 49.5269\n",
      "Epoch 140/150\n",
      "87/87 [==============================] - 0s - loss: 828.7409 - mean_absolute_error: 21.9037 - val_loss: 3624.9296 - val_mean_absolute_error: 48.7084\n",
      "Epoch 141/150\n",
      "87/87 [==============================] - 0s - loss: 841.1390 - mean_absolute_error: 21.9741 - val_loss: 3833.4633 - val_mean_absolute_error: 52.7657\n",
      "Epoch 142/150\n",
      "87/87 [==============================] - 0s - loss: 802.9266 - mean_absolute_error: 21.3392 - val_loss: 3581.3271 - val_mean_absolute_error: 48.4510\n",
      "Epoch 143/150\n",
      "87/87 [==============================] - 0s - loss: 832.0844 - mean_absolute_error: 22.1100 - val_loss: 3586.3855 - val_mean_absolute_error: 49.2805\n",
      "Epoch 144/150\n",
      "87/87 [==============================] - 0s - loss: 911.9393 - mean_absolute_error: 23.1551 - val_loss: 3843.7929 - val_mean_absolute_error: 52.9422\n",
      "Epoch 145/150\n",
      "87/87 [==============================] - 0s - loss: 793.8432 - mean_absolute_error: 21.5895 - val_loss: 3522.8128 - val_mean_absolute_error: 48.0816\n",
      "Epoch 146/150\n",
      "87/87 [==============================] - 0s - loss: 801.4196 - mean_absolute_error: 21.4989 - val_loss: 3582.2306 - val_mean_absolute_error: 49.8219\n",
      "Epoch 147/150\n",
      "87/87 [==============================] - 0s - loss: 785.7681 - mean_absolute_error: 21.3631 - val_loss: 3490.9272 - val_mean_absolute_error: 48.3820\n",
      "Epoch 148/150\n",
      "87/87 [==============================] - 0s - loss: 818.1433 - mean_absolute_error: 21.2282 - val_loss: 3565.9171 - val_mean_absolute_error: 49.8359\n",
      "Epoch 149/150\n",
      "87/87 [==============================] - 0s - loss: 780.8914 - mean_absolute_error: 21.5224 - val_loss: 3440.8034 - val_mean_absolute_error: 47.7441\n",
      "Epoch 150/150\n",
      "87/87 [==============================] - 0s - loss: 804.8567 - mean_absolute_error: 21.5500 - val_loss: 3481.0409 - val_mean_absolute_error: 48.8570\n"
     ]
    },
    {
     "data": {
      "text/plain": [
       "<keras.callbacks.History at 0x7f34a0c73f90>"
      ]
     },
     "execution_count": 76,
     "metadata": {},
     "output_type": "execute_result"
    }
   ],
   "source": [
    "# train model\n",
    "fcnn.fit(X_train, Y_train, validation_data=(X_val, Y_val), batch_size=10, nb_epoch=150, verbose=1)"
   ]
  },
  {
   "cell_type": "code",
   "execution_count": 77,
   "metadata": {
    "collapsed": false
   },
   "outputs": [
    {
     "name": "stdout",
     "output_type": "stream",
     "text": [
      "Mean Absoluate Error: 48.8569977589\n"
     ]
    }
   ],
   "source": [
    "# evaluate model\n",
    "socres = fcnn.evaluate(X_val, Y_val, verbose=0)\n",
    "print(\"Mean Absoluate Error: %s\"%(socres[1]))"
   ]
  },
  {
   "cell_type": "markdown",
   "metadata": {},
   "source": [
    "## 3. Predict Time Series"
   ]
  },
  {
   "cell_type": "code",
   "execution_count": 78,
   "metadata": {
    "collapsed": false
   },
   "outputs": [
    {
     "name": "stdout",
     "output_type": "stream",
     "text": [
      "48\n"
     ]
    }
   ],
   "source": [
    "def predict_by_model(model, look_back, start_series, nb_predict=10):\n",
    "    \"\"\"\n",
    "    input:\n",
    "    - start_series: np.narray. (None, )\n",
    "    output:\n",
    "    - output: np.array. (nb_predict, )\n",
    "    \"\"\"\n",
    "    \n",
    "    len_series = len(start_series)\n",
    "    if len_series < look_back:\n",
    "        raise Exception(\"the length of start_series must longer than look_back\")\n",
    "    \n",
    "    iterate_series = start_series.reshape((len_series, ))\n",
    "    \n",
    "    for i in range(nb_predict):\n",
    "        features = iterate_series[len(iterate_series) - look_back :].reshape((1, look_back))\n",
    "        next_value = model.predict(features)[0]\n",
    "        iterate_series = np.append(iterate_series, next_value)\n",
    "    \n",
    "    output = iterate_series[len(iterate_series) - nb_predict:]\n",
    "    \n",
    "    return output\n",
    "\n",
    "# predict by fcnn\n",
    "data_predict = predict_by_model(fcnn, look_back, data_train, nb_predict = len(data_val))\n",
    "print len(data_predict)"
   ]
  },
  {
   "cell_type": "code",
   "execution_count": 79,
   "metadata": {
    "collapsed": false
   },
   "outputs": [
    {
     "data": {
      "image/png": "[encoded data removed]",
      "text/plain": [
       "<matplotlib.figure.Figure at 0x7f34a0c59d90>"
      ]
     },
     "metadata": {},
     "output_type": "display_data"
    }
   ],
   "source": [
    "plt.plot(np.append(data_train, data_predict), label='predict')\n",
    "plt.plot(np.append(data_train, data_val), label='val')\n",
    "plt.legend(loc='upper left')\n",
    "plt.show()"
   ]
  },
  {
   "cell_type": "markdown",
   "metadata": {},
   "source": [
    "What a Shit!"
   ]
  },
  {
   "cell_type": "code",
   "execution_count": null,
   "metadata": {
    "collapsed": true
   },
   "outputs": [],
   "source": []
  },
  {
   "cell_type": "code",
   "execution_count": null,
   "metadata": {
    "collapsed": true
   },
   "outputs": [],
   "source": []
  },
  {
   "cell_type": "code",
   "execution_count": null,
   "metadata": {
    "collapsed": true
   },
   "outputs": [],
   "source": []
  },
  {
   "cell_type": "code",
   "execution_count": null,
   "metadata": {
    "collapsed": true
   },
   "outputs": [],
   "source": []
  },
  {
   "cell_type": "code",
   "execution_count": null,
   "metadata": {
    "collapsed": true
   },
   "outputs": [],
   "source": []
  },
  {
   "cell_type": "code",
   "execution_count": null,
   "metadata": {
    "collapsed": true
   },
   "outputs": [],
   "source": []
  },
  {
   "cell_type": "code",
   "execution_count": null,
   "metadata": {
    "collapsed": true
   },
   "outputs": [],
   "source": []
  },
  {
   "cell_type": "code",
   "execution_count": null,
   "metadata": {
    "collapsed": true
   },
   "outputs": [],
   "source": []
  },
  {
   "cell_type": "code",
   "execution_count": null,
   "metadata": {
    "collapsed": true
   },
   "outputs": [],
   "source": []
  },
  {
   "cell_type": "code",
   "execution_count": null,
   "metadata": {
    "collapsed": true
   },
   "outputs": [],
   "source": []
  },
  {
   "cell_type": "code",
   "execution_count": null,
   "metadata": {
    "collapsed": true
   },
   "outputs": [],
   "source": []
  },
  {
   "cell_type": "code",
   "execution_count": null,
   "metadata": {
    "collapsed": true
   },
   "outputs": [],
   "source": []
  }
 ],
 "metadata": {
  "kernelspec": {
   "display_name": "Python 2",
   "language": "python",
   "name": "python2"
  },
  "language_info": {
   "codemirror_mode": {
    "name": "ipython",
    "version": 2
   },
   "file_extension": ".py",
   "mimetype": "text/x-python",
   "name": "python",
   "nbconvert_exporter": "python",
   "pygments_lexer": "ipython2",
   "version": "2.7.12"
  }
 },
 "nbformat": 4,
 "nbformat_minor": 0
}
