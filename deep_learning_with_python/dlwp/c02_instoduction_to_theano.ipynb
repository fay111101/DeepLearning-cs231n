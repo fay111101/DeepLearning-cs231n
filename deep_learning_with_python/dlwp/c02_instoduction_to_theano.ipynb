{
 "cells": [
  {
   "cell_type": "markdown",
   "metadata": {},
   "source": [
    "# C2: Introduction to Theano"
   ]
  },
  {
   "cell_type": "markdown",
   "metadata": {},
   "source": [
    "## 2.1 What is Theano\n",
    "\n",
    "..."
   ]
  },
  {
   "cell_type": "markdown",
   "metadata": {},
   "source": [
    "## 2.2 How to Install Theano\n",
    "\n",
    "Install theano by pip\n",
    "\n",
    "```\n",
    "$ activate .env/bin/activate\n",
    "$ pip install theano==0.8.2\n",
    "```"
   ]
  },
  {
   "cell_type": "markdown",
   "metadata": {},
   "source": [
    "## 2.3 Simple Theano Example"
   ]
  },
  {
   "cell_type": "code",
   "execution_count": 9,
   "metadata": {
    "collapsed": false
   },
   "outputs": [
    {
     "name": "stdout",
     "output_type": "stream",
     "text": [
      "type of a and b: <class 'theano.tensor.var.TensorVariable'>\n",
      "type of c: <class 'theano.tensor.var.TensorVariable'>\n",
      "f: <theano.compile.function_module.Function object at 0x110c5e8d0>\n",
      "type of f: <class 'theano.compile.function_module.Function'>\n",
      "y: 3.7\n",
      "type of y: <type 'numpy.ndarray'>\n"
     ]
    }
   ],
   "source": [
    "# an example of theano\n",
    "import theano\n",
    "from theano import tensor\n",
    "\n",
    "# decalare two symbolic floating-points scalars\n",
    "a = tensor.dscalar()\n",
    "b = tensor.dscalar()\n",
    "\n",
    "# create a simple symbolic expression\n",
    "c = a + b\n",
    "print 'type of a and b:', type(a)\n",
    "print 'type of c:', type(c)\n",
    "\n",
    "# convert the expression into a callable function\n",
    "f = theano.function([a, b], c)\n",
    "print 'f:', f\n",
    "print 'type of f:', type(f)\n",
    "\n",
    "# use this function\n",
    "y = f(1.2, 2.5)\n",
    "print 'y:', y\n",
    "print 'type of y:', type(y)"
   ]
  },
  {
   "cell_type": "markdown",
   "metadata": {},
   "source": [
    "## 2.4 Extensions and Wrappers for Theano\n",
    "\n",
    "Keras is a wrapper library the hids Theano."
   ]
  },
  {
   "cell_type": "markdown",
   "metadata": {},
   "source": [
    "## 2.5 More Theano Resources\n",
    "\n",
    "Looking for some more resources on Theano? Take a look at some of the following.\n",
    "\n",
    "* Theano Official Homepage:\n",
    "    http://deeplearning.net/software/theano/\n",
    "     \n",
    "* Theano GitHub Repository:\n",
    "    https://github.com/Theano/Theano/\n",
    "    \n",
    "* Theano: A CPU and GPU Math Compiler in Python (2010):\n",
    "    http://www.iro.umontreal.ca/~lisa/pointeurs/theano_scipy2010.pdf\n",
    "    \n",
    "* List of Libraries Built on Theano:\n",
    "    https://github.com/Theano/Theano/wiki/Related-projects\n",
    "\n",
    "* List of Theano configuration options:\n",
    "    http://deeplearning.net/software/theano/library/config.html"
   ]
  },
  {
   "cell_type": "markdown",
   "metadata": {},
   "source": [
    "## 2.6 Summary\n",
    "\n",
    "In this lesson:\n",
    "\n",
    "* Theano is a foundation library used for deep learning research and development.\n",
    "* Deep learning models can be developed directly in Theano if desired.\n",
    "* The development and evaluation of deep learning models is easier with wrapper libraries like Keras."
   ]
  },
  {
   "cell_type": "code",
   "execution_count": null,
   "metadata": {
    "collapsed": true
   },
   "outputs": [],
   "source": []
  }
 ],
 "metadata": {
  "kernelspec": {
   "display_name": "Python 2",
   "language": "python",
   "name": "python2"
  },
  "language_info": {
   "codemirror_mode": {
    "name": "ipython",
    "version": 2
   },
   "file_extension": ".py",
   "mimetype": "text/x-python",
   "name": "python",
   "nbconvert_exporter": "python",
   "pygments_lexer": "ipython2",
   "version": "2.7.12"
  }
 },
 "nbformat": 4,
 "nbformat_minor": 0
}
