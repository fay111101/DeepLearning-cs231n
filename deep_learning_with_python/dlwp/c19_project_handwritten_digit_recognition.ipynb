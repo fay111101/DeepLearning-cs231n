{
 "cells": [
  {
   "cell_type": "markdown",
   "metadata": {},
   "source": [
    "# C19: Project: Handwritten Digit Recognition"
   ]
  },
  {
   "cell_type": "markdown",
   "metadata": {},
   "source": [
    "## 1. Download Dataset\n",
    "\n",
    "MNIST dataset will be download automatically and saved at ~/.keras/datasets/mnist.pkl.gz as a 15M file by Keras, when you first time called it.\n",
    "\n",
    "Plot some instances of MNIST"
   ]
  },
  {
   "cell_type": "code",
   "execution_count": 1,
   "metadata": {
    "collapsed": false
   },
   "outputs": [
    {
     "name": "stdout",
     "output_type": "stream",
     "text": [
      "(60000, 28, 28) (60000,)\n",
      "uint8 uint8\n"
     ]
    },
    {
     "name": "stderr",
     "output_type": "stream",
     "text": [
      "Using Theano backend.\n"
     ]
    }
   ],
   "source": [
    "from keras.datasets import mnist\n",
    "import matplotlib as mpl\n",
    "mpl.use('TkAgg')\n",
    "import matplotlib.pyplot as plt\n",
    "%matplotlib inline\n",
    "\n",
    "(X_train, Y_train), (X_val, Y_val) = mnist.load_data()\n",
    "\n",
    "print X_train.shape, Y_train.shape\n",
    "print X_train.dtype, Y_train.dtype"
   ]
  },
  {
   "cell_type": "code",
   "execution_count": 2,
   "metadata": {
    "collapsed": false
   },
   "outputs": [
    {
     "data": {
      "image/png": "[encoded data removed]",
      "text/plain": [
       "<matplotlib.figure.Figure at 0x114353a50>"
      ]
     },
     "metadata": {},
     "output_type": "display_data"
    }
   ],
   "source": [
    "plt.subplot(141)\n",
    "plt.imshow(X_train[0], cmap='gray')\n",
    "plt.subplot(142)\n",
    "plt.imshow(X_train[1], cmap='gray')\n",
    "plt.subplot(143)\n",
    "plt.imshow(X_train[2], cmap='gray')\n",
    "plt.subplot(144)\n",
    "plt.imshow(X_train[3], cmap='gray')\n",
    "plt.show()"
   ]
  },
  {
   "cell_type": "markdown",
   "metadata": {},
   "source": [
    "## 2. Prepare Dataset"
   ]
  },
  {
   "cell_type": "code",
   "execution_count": 3,
   "metadata": {
    "collapsed": true
   },
   "outputs": [],
   "source": [
    "# flatten 28*28 iamge to a 784 vector\n",
    "num_pixels = X_train.shape[1] * X_train.shape[2]\n",
    "X_train = X_train.reshape(X_train.shape[0], num_pixels).astype('float32')\n",
    "X_val = X_val.reshape(X_val.shape[0], num_pixels).astype('float32')"
   ]
  },
  {
   "cell_type": "code",
   "execution_count": 4,
   "metadata": {
    "collapsed": true
   },
   "outputs": [],
   "source": [
    "# normalize inputs from 0~255 to 0~1\n",
    "X_train = X_train / 255\n",
    "X_val = X_val / 255"
   ]
  },
  {
   "cell_type": "code",
   "execution_count": 5,
   "metadata": {
    "collapsed": false
   },
   "outputs": [
    {
     "name": "stdout",
     "output_type": "stream",
     "text": [
      "(60000, 10)\n"
     ]
    }
   ],
   "source": [
    "# transform Y to one-hot-vector form\n",
    "from keras.utils.np_utils import to_categorical\n",
    "Y_train = to_categorical(Y_train)\n",
    "Y_val = to_categorical(Y_val)\n",
    "num_classes = Y_train.shape[1]\n",
    "\n",
    "print Y_train.shape"
   ]
  },
  {
   "cell_type": "markdown",
   "metadata": {
    "collapsed": true
   },
   "source": [
    "## 3. Fully-Connect Neural Network\n",
    "\n",
    "Use Fc NN as a baseline model"
   ]
  },
  {
   "cell_type": "code",
   "execution_count": 6,
   "metadata": {
    "collapsed": false
   },
   "outputs": [
    {
     "name": "stdout",
     "output_type": "stream",
     "text": [
      "Train on 60000 samples, validate on 10000 samples\n",
      "Epoch 1/10\n",
      "3s - loss: 0.2771 - acc: 0.9210 - val_loss: 0.1457 - val_acc: 0.9586\n",
      "Epoch 2/10\n",
      "3s - loss: 0.1123 - acc: 0.9676 - val_loss: 0.0977 - val_acc: 0.9693\n",
      "Epoch 3/10\n",
      "4s - loss: 0.0711 - acc: 0.9797 - val_loss: 0.0779 - val_acc: 0.9762\n",
      "Epoch 4/10\n",
      "4s - loss: 0.0506 - acc: 0.9857 - val_loss: 0.0699 - val_acc: 0.9796\n",
      "Epoch 5/10\n",
      "4s - loss: 0.0360 - acc: 0.9896 - val_loss: 0.0651 - val_acc: 0.9806\n",
      "Epoch 6/10\n",
      "4s - loss: 0.0262 - acc: 0.9928 - val_loss: 0.0603 - val_acc: 0.9802\n",
      "Epoch 7/10\n",
      "4s - loss: 0.0202 - acc: 0.9947 - val_loss: 0.0579 - val_acc: 0.9815\n",
      "Epoch 8/10\n",
      "4s - loss: 0.0141 - acc: 0.9968 - val_loss: 0.0588 - val_acc: 0.9817\n",
      "Epoch 9/10\n",
      "4s - loss: 0.0101 - acc: 0.9980 - val_loss: 0.0563 - val_acc: 0.9813\n",
      "Epoch 10/10\n",
      "4s - loss: 0.0072 - acc: 0.9988 - val_loss: 0.0582 - val_acc: 0.9823\n"
     ]
    },
    {
     "data": {
      "text/plain": [
       "<keras.callbacks.History at 0x1176482d0>"
      ]
     },
     "execution_count": 6,
     "metadata": {},
     "output_type": "execute_result"
    }
   ],
   "source": [
    "from keras.models import Sequential\n",
    "from keras.layers import Dense\n",
    "\n",
    "\n",
    "# define a fc nn\n",
    "def create_fc_nn():\n",
    "    model = Sequential()\n",
    "    model.add(Dense(num_pixels, input_dim=num_pixels, init='normal', activation='relu'))\n",
    "    model.add(Dense(num_classes, init='normal', activation='softmax'))\n",
    "    model.compile(loss='categorical_crossentropy', optimizer='adam', metrics=['accuracy'])\n",
    "    return model\n",
    "\n",
    "# create and train a model\n",
    "model = create_fc_nn()\n",
    "model.fit(X_train, Y_train, validation_data=(X_val, Y_val), nb_epoch=10, batch_size=200, verbose=2)"
   ]
  },
  {
   "cell_type": "code",
   "execution_count": 7,
   "metadata": {
    "collapsed": false
   },
   "outputs": [
    {
     "name": "stdout",
     "output_type": "stream",
     "text": [
      "FC NN Accuracy: 98.23%\n"
     ]
    }
   ],
   "source": [
    "# evaluate baseline model\n",
    "scores = model.evaluate(X_val, Y_val, verbose=0)\n",
    "print(\"FC NN Accuracy: %.2f%%\"%(scores[1]*100))"
   ]
  },
  {
   "cell_type": "markdown",
   "metadata": {
    "collapsed": true
   },
   "source": [
    "## 4. Simple Convolutional Neural Network"
   ]
  },
  {
   "cell_type": "markdown",
   "metadata": {
    "collapsed": true
   },
   "source": [
    "### 4.1 Preparation"
   ]
  },
  {
   "cell_type": "code",
   "execution_count": 8,
   "metadata": {
    "collapsed": true
   },
   "outputs": [],
   "source": [
    "from keras.layers import Dropout, Flatten\n",
    "from keras.layers.convolutional import Convolution2D, MaxPooling2D\n",
    "import numpy as np"
   ]
  },
  {
   "cell_type": "code",
   "execution_count": 9,
   "metadata": {
    "collapsed": false
   },
   "outputs": [],
   "source": [
    "# fix random seed\n",
    "seed = 7\n",
    "np.random.seed(seed)"
   ]
  },
  {
   "cell_type": "code",
   "execution_count": 10,
   "metadata": {
    "collapsed": false
   },
   "outputs": [
    {
     "name": "stdout",
     "output_type": "stream",
     "text": [
      "(60000, 1, 28, 28)\n"
     ]
    }
   ],
   "source": [
    "# resize dataset\n",
    "X_train = X_train.reshape(X_train.shape[0], 1, 28, 28).astype('float32')\n",
    "X_val = X_val.reshape(X_val.shape[0], 1, 28, 28).astype('float32')\n",
    "print X_train.shape"
   ]
  },
  {
   "cell_type": "markdown",
   "metadata": {
    "collapsed": true
   },
   "source": [
    "### 4.2 Define a CNN\n",
    "\n",
    "The structure of CNN is below:\n",
    "\n",
    "    1. The first hidden layer is a convolutional layer called a Convolution2D. The layer has 32 feature maps, which with the size of 5x5 and a rectifier activation function. This is the input layer, expecting images with the structure outline above.\n",
    "    \n",
    "    2. Next we define a pooling layer that takes the maximum value called MaxPooling2D. It is configured with a pool size of 2x2.\n",
    "    \n",
    "    3. The next layer is a regularization layer using dropout called Dropout. It is configured to randomly exclude 20% of neurons in the layer in order to reduce overfitting.\n",
    "    \n",
    "    4. Next is a layer that converts the 2D matrix data to a vector called Flatten. It allows the output to be processed by standard fully connected layers.\n",
    "    \n",
    "    5. Next a fully connected layer with 128 neurons and rectifier activation function is used.\n",
    "    \n",
    "    6. Finally, the output layer has 10 neurons for the 10 classes and a softmax activation function to output probability-like predictions for each class.\n",
    "\n",
    "![CNN Structure](./figures/c19_cnn_structure.png)"
   ]
  },
  {
   "cell_type": "code",
   "execution_count": 11,
   "metadata": {
    "collapsed": true
   },
   "outputs": [],
   "source": [
    "# define a simple cnn\n",
    "def create_cnn():\n",
    "    model = Sequential()\n",
    "    model.add(Convolution2D(32, 5, 5, border_mode='valid', input_shape=(1, 28, 28), activation='relu'))\n",
    "    model.add(MaxPooling2D(pool_size=(2, 2)))\n",
    "    model.add(Dropout(0.2))\n",
    "    model.add(Flatten())\n",
    "    model.add(Dense(128, activation='relu'))\n",
    "    model.add(Dense(num_classes, activation='softmax'))\n",
    "    model.compile(loss='categorical_crossentropy', optimizer='adam', metrics=['accuracy'])\n",
    "    return model"
   ]
  },
  {
   "cell_type": "markdown",
   "metadata": {},
   "source": [
    "### 4.3 Build and Fit the CNN"
   ]
  },
  {
   "cell_type": "code",
   "execution_count": 12,
   "metadata": {
    "collapsed": false
   },
   "outputs": [
    {
     "name": "stdout",
     "output_type": "stream",
     "text": [
      "Train on 60000 samples, validate on 10000 samples\n",
      "Epoch 1/10\n",
      "42s - loss: 0.2412 - acc: 0.9318 - val_loss: 0.0755 - val_acc: 0.9767\n",
      "Epoch 2/10\n",
      "41s - loss: 0.0727 - acc: 0.9781 - val_loss: 0.0532 - val_acc: 0.9823\n",
      "Epoch 3/10\n",
      "42s - loss: 0.0496 - acc: 0.9850 - val_loss: 0.0388 - val_acc: 0.9859\n",
      "Epoch 4/10\n",
      "43s - loss: 0.0413 - acc: 0.9869 - val_loss: 0.0414 - val_acc: 0.9863\n",
      "Epoch 5/10\n",
      "43s - loss: 0.0321 - acc: 0.9898 - val_loss: 0.0380 - val_acc: 0.9869\n",
      "Epoch 6/10\n",
      "43s - loss: 0.0283 - acc: 0.9908 - val_loss: 0.0417 - val_acc: 0.9866\n",
      "Epoch 7/10\n",
      "44s - loss: 0.0222 - acc: 0.9930 - val_loss: 0.0322 - val_acc: 0.9891\n",
      "Epoch 8/10\n",
      "43s - loss: 0.0198 - acc: 0.9937 - val_loss: 0.0370 - val_acc: 0.9885\n",
      "Epoch 9/10\n",
      "42s - loss: 0.0160 - acc: 0.9948 - val_loss: 0.0337 - val_acc: 0.9880\n",
      "Epoch 10/10\n",
      "44s - loss: 0.0142 - acc: 0.9956 - val_loss: 0.0311 - val_acc: 0.9894\n"
     ]
    },
    {
     "data": {
      "text/plain": [
       "<keras.callbacks.History at 0x1261829d0>"
      ]
     },
     "execution_count": 12,
     "metadata": {},
     "output_type": "execute_result"
    }
   ],
   "source": [
    "# build a model\n",
    "cnn_model = create_cnn()\n",
    "\n",
    "# fit the model\n",
    "cnn_model.fit(X_train, Y_train, validation_data=(X_val, Y_val), nb_epoch=10, batch_size=200, verbose=2)"
   ]
  },
  {
   "cell_type": "markdown",
   "metadata": {
    "collapsed": true
   },
   "source": [
    "### 4.4 Evaluate CNN"
   ]
  },
  {
   "cell_type": "code",
   "execution_count": 13,
   "metadata": {
    "collapsed": false
   },
   "outputs": [
    {
     "name": "stdout",
     "output_type": "stream",
     "text": [
      "CNN Accuracy: 98.94%\n"
     ]
    }
   ],
   "source": [
    "scores = cnn_model.evaluate(X_val, Y_val, verbose=0)\n",
    "print(\"CNN Accuracy: %.2f%%\"%(scores[1]*100))"
   ]
  },
  {
   "cell_type": "code",
   "execution_count": null,
   "metadata": {
    "collapsed": true
   },
   "outputs": [],
   "source": []
  }
 ],
 "metadata": {
  "kernelspec": {
   "display_name": "Python 2",
   "language": "python",
   "name": "python2"
  },
  "language_info": {
   "codemirror_mode": {
    "name": "ipython",
    "version": 2
   },
   "file_extension": ".py",
   "mimetype": "text/x-python",
   "name": "python",
   "nbconvert_exporter": "python",
   "pygments_lexer": "ipython2",
   "version": "2.7.12"
  }
 },
 "nbformat": 4,
 "nbformat_minor": 0
}
