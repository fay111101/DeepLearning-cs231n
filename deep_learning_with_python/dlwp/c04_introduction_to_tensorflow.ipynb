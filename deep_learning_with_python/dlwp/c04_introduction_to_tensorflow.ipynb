{
 "cells": [
  {
   "cell_type": "markdown",
   "metadata": {},
   "source": [
    "# C3: Introduction to TensorFlow"
   ]
  },
  {
   "cell_type": "markdown",
   "metadata": {},
   "source": [
    "## 3.1 What is TensorFlow\n",
    "..."
   ]
  },
  {
   "cell_type": "markdown",
   "metadata": {},
   "source": [
    "## 3.2 How to Install TensorFlow\n",
    "\n",
    "Fellow the official install guid: https://www.tensorflow.org/versions/r0.9/get_started/os_setup.html#pip-installation\n",
    "\n",
    "In my MacOS 10.12\n",
    "\n",
    "```\n",
    "$ source .env/bin/activate\n",
    "$ pip install tensorflow\n",
    "```"
   ]
  },
  {
   "cell_type": "markdown",
   "metadata": {},
   "source": [
    "## 3.3 Your First Example in TensorFlow\n",
    "\n",
    "Computation is described in terms of data flow and operations in the structure of a directed graph.\n",
    "\n",
    "* Nodes: Nodes perform computation and have zero or more inputs and outputs. Data that moves between nodes are known as tensors, which are multi-dimensional arrays of real values.\n",
    "\n",
    "* Edges: The graph defines the flow of data, branching, looping and updates to state. Special edges can be used to synchronize behavior within the graph, for example waiting for computation on a number of inputs to complete.\n",
    "  \n",
    "* Operation: An operation is a named abstract computation which can take input attributes and produce output attributes. For example, you could define an add or multiply operation."
   ]
  },
  {
   "cell_type": "markdown",
   "metadata": {},
   "source": [
    "## 3.4 Simple TensorFlow Example\n",
    "\n",
    "An simple example of c = a + b"
   ]
  },
  {
   "cell_type": "code",
   "execution_count": 9,
   "metadata": {
    "collapsed": false
   },
   "outputs": [
    {
     "name": "stdout",
     "output_type": "stream",
     "text": [
      "a: Tensor(\"Placeholder_12:0\", dtype=float32)\n",
      "type of a: <class 'tensorflow.python.framework.ops.Tensor'>\n",
      "Tensor(\"Add_6:0\", dtype=float32)\n",
      "<class 'tensorflow.python.framework.ops.Tensor'>\n",
      "4.0\n",
      "<type 'numpy.float32'>\n"
     ]
    }
   ],
   "source": [
    "# Example c = a + b\n",
    "import tensorflow as tf\n",
    "\n",
    "# declare two symbolic floating-point scalars\n",
    "a = tf.placeholder(tf.float32)\n",
    "b = tf.placeholder(tf.float32)\n",
    "print 'a:', a\n",
    "print 'type of a:', type(a)\n",
    "\n",
    "# create s aimple smybolic expression using the add function\n",
    "c = tf.add(a, b)\n",
    "print c\n",
    "print type(c)\n",
    "\n",
    "# bind 1.5 to a, 2.5 to bm and evaluate c\n",
    "sess = tf.Session()\n",
    "binding = {a: 1.5, b: 2.5}\n",
    "y = sess.run(c, feed_dict=binding)\n",
    "print y\n",
    "print type(y)"
   ]
  },
  {
   "cell_type": "markdown",
   "metadata": {
    "collapsed": true
   },
   "source": [
    "## 3.5 More Deep Learning Models\n",
    "\n",
    "TensorFlow installation comes with a number of Deep Learning models we can use directly. Firstly, we need to know where TensorFlow was installed on my system. Use the Python script bellow"
   ]
  },
  {
   "cell_type": "code",
   "execution_count": 13,
   "metadata": {
    "collapsed": false
   },
   "outputs": [
    {
     "name": "stdout",
     "output_type": "stream",
     "text": [
      "/Users/liuweijie/WorkSpace/DeepLearning/deep_learning_with_python/.env/lib/python2.7/site-packages/tensorflow\n"
     ]
    }
   ],
   "source": [
    "import os, inspect\n",
    "print os.path.dirname(inspect.getfile(tf))"
   ]
  },
  {
   "cell_type": "markdown",
   "metadata": {},
   "source": [
    "Change to this directory and take note of the models/ subdirectory. Included are a number of deep learning models with tutorial-like comments, such as:\n",
    "\n",
    "* Multi-threaded word2vec mini-batched skip-gram model.\n",
    "* Multi-threaded word2vec unbatched skip-gram model.\n",
    "* CNN for the CIFAR-10 network.\n",
    "*Simple, end-to-end, LeNet-5-like convolutional MNIST model example.   Sequence-to-sequence model with an attention mechanism."
   ]
  },
  {
   "cell_type": "markdown",
   "metadata": {},
   "source": [
    "## 3.6 Summary\n",
    "\n",
    "In this lesson you discovered the TensorFlow Python library for deep learning. You learned:\n",
    "\n",
    "* TensorFlow is another efficient numerical library like Theano.\n",
    "* Like Theano, deep learning models can be developed directly in TensorFlow if desired.\n",
    "* Also like Theano, TensorFlow may be better leveraged by a wrapper library that abstracts the complexity and lower level details."
   ]
  },
  {
   "cell_type": "code",
   "execution_count": null,
   "metadata": {
    "collapsed": true
   },
   "outputs": [],
   "source": []
  }
 ],
 "metadata": {
  "kernelspec": {
   "display_name": "Python 2",
   "language": "python",
   "name": "python2"
  },
  "language_info": {
   "codemirror_mode": {
    "name": "ipython",
    "version": 2
   },
   "file_extension": ".py",
   "mimetype": "text/x-python",
   "name": "python",
   "nbconvert_exporter": "python",
   "pygments_lexer": "ipython2",
   "version": "2.7.12"
  }
 },
 "nbformat": 4,
 "nbformat_minor": 0
}
