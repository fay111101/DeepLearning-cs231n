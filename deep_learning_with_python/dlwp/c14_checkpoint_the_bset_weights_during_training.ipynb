{
 "cells": [
  {
   "cell_type": "markdown",
   "metadata": {},
   "source": [
    "# C4: Keep The Best Models During Training With Checkpointing\n",
    "\n",
    "Summary:\n",
    "\n",
    "    1. Create a ModelCheckpoint instance, and pass it into the fit function of model as a callback instance.\n",
    "    2. When model.fit() is runing, the callback instance will be called at each epoch\n"
   ]
  },
  {
   "cell_type": "markdown",
   "metadata": {},
   "source": [
    "## 1. Preparation\n",
    "\n",
    "In this section, we will use the dataset \"pima-indians-diabetes.data\". \n",
    "\n",
    "First, import the package and dataset we will need."
   ]
  },
  {
   "cell_type": "code",
   "execution_count": 2,
   "metadata": {
    "collapsed": false
   },
   "outputs": [],
   "source": [
    "from keras.models import Sequential\n",
    "from keras.layers import Dense\n",
    "from keras.callbacks import ModelCheckpoint\n",
    "from sklearn.model_selection import train_test_split\n",
    "import numpy as np\n",
    "\n",
    "# fix random seed\n",
    "seed = 7\n",
    "np.random.seed(seed)\n",
    "\n",
    "# load and split dataset\n",
    "dataset = np.loadtxt(\"./data_set/pima-indians-diabetes.data\", delimiter=',')\n",
    "X = dataset[:, 0:8]\n",
    "Y = dataset[:, 8]\n",
    "X_train, X_val, Y_train, Y_val = train_test_split(X, Y, test_size=0.2, random_state=seed)"
   ]
  },
  {
   "cell_type": "markdown",
   "metadata": {},
   "source": [
    "define a nn model"
   ]
  },
  {
   "cell_type": "code",
   "execution_count": 4,
   "metadata": {
    "collapsed": true
   },
   "outputs": [],
   "source": [
    "# define create model\n",
    "def create_nn():\n",
    "    model = Sequential()\n",
    "    model.add(Dense(12, input_dim=8, init='uniform', activation='relu'))\n",
    "    model.add(Dense(8, init='uniform', activation='relu'))\n",
    "    model.add(Dense(1, init='uniform', activation='sigmoid'))\n",
    "    model.compile(loss='binary_crossentropy', optimizer='adam', metrics=['accuracy'])\n",
    "    return model"
   ]
  },
  {
   "cell_type": "markdown",
   "metadata": {},
   "source": [
    "## 2. Use Checkpoint to Save Weights of The Best Performance Model\n",
    "\n",
    "Create a model and a checkpoint instance. When the val_acc is improved, the weights will be saved."
   ]
  },
  {
   "cell_type": "code",
   "execution_count": 9,
   "metadata": {
    "collapsed": false
   },
   "outputs": [
    {
     "name": "stdout",
     "output_type": "stream",
     "text": [
      "Epoch 00000: val_acc improved from -inf to 0.62987, saving model to ./models/c14/nn-best-model.h5\n",
      "Epoch 00001: val_acc did not improve\n",
      "Epoch 00002: val_acc improved from 0.62987 to 0.63636, saving model to ./models/c14/nn-best-model.h5\n",
      "Epoch 00003: val_acc did not improve\n",
      "Epoch 00004: val_acc improved from 0.63636 to 0.65584, saving model to ./models/c14/nn-best-model.h5\n",
      "Epoch 00005: val_acc improved from 0.65584 to 0.66234, saving model to ./models/c14/nn-best-model.h5\n",
      "Epoch 00006: val_acc improved from 0.66234 to 0.66883, saving model to ./models/c14/nn-best-model.h5\n",
      "Epoch 00007: val_acc improved from 0.66883 to 0.69481, saving model to ./models/c14/nn-best-model.h5\n",
      "Epoch 00008: val_acc did not improve\n",
      "Epoch 00009: val_acc improved from 0.69481 to 0.70779, saving model to ./models/c14/nn-best-model.h5\n",
      "Epoch 00010: val_acc did not improve\n",
      "Epoch 00011: val_acc improved from 0.70779 to 0.71429, saving model to ./models/c14/nn-best-model.h5\n",
      "Epoch 00012: val_acc did not improve\n",
      "Epoch 00013: val_acc did not improve\n",
      "Epoch 00014: val_acc did not improve\n",
      "Epoch 00015: val_acc improved from 0.71429 to 0.72727, saving model to ./models/c14/nn-best-model.h5\n",
      "Epoch 00016: val_acc did not improve\n",
      "Epoch 00017: val_acc did not improve\n",
      "Epoch 00018: val_acc did not improve\n",
      "Epoch 00019: val_acc did not improve\n",
      "Epoch 00020: val_acc did not improve\n",
      "Epoch 00021: val_acc improved from 0.72727 to 0.74675, saving model to ./models/c14/nn-best-model.h5\n",
      "Epoch 00022: val_acc did not improve\n",
      "Epoch 00023: val_acc did not improve\n",
      "Epoch 00024: val_acc did not improve\n",
      "Epoch 00025: val_acc did not improve\n",
      "Epoch 00026: val_acc did not improve\n",
      "Epoch 00027: val_acc did not improve\n",
      "Epoch 00028: val_acc did not improve\n",
      "Epoch 00029: val_acc did not improve\n",
      "Epoch 00030: val_acc did not improve\n",
      "Epoch 00031: val_acc did not improve\n",
      "Epoch 00032: val_acc did not improve\n",
      "Epoch 00033: val_acc did not improve\n",
      "Epoch 00034: val_acc improved from 0.74675 to 0.75325, saving model to ./models/c14/nn-best-model.h5\n",
      "Epoch 00035: val_acc did not improve\n",
      "Epoch 00036: val_acc did not improve\n",
      "Epoch 00037: val_acc did not improve\n",
      "Epoch 00038: val_acc did not improve\n",
      "Epoch 00039: val_acc did not improve\n",
      "Epoch 00040: val_acc did not improve\n",
      "Epoch 00041: val_acc did not improve\n",
      "Epoch 00042: val_acc did not improve\n",
      "Epoch 00043: val_acc improved from 0.75325 to 0.75325, saving model to ./models/c14/nn-best-model.h5\n",
      "Epoch 00044: val_acc did not improve\n",
      "Epoch 00045: val_acc did not improve\n",
      "Epoch 00046: val_acc improved from 0.75325 to 0.76623, saving model to ./models/c14/nn-best-model.h5\n",
      "Epoch 00047: val_acc did not improve\n",
      "Epoch 00048: val_acc did not improve\n",
      "Epoch 00049: val_acc did not improve\n",
      "Epoch 00050: val_acc did not improve\n",
      "Epoch 00051: val_acc did not improve\n",
      "Epoch 00052: val_acc improved from 0.76623 to 0.77273, saving model to ./models/c14/nn-best-model.h5\n",
      "Epoch 00053: val_acc did not improve\n",
      "Epoch 00054: val_acc did not improve\n",
      "Epoch 00055: val_acc did not improve\n",
      "Epoch 00056: val_acc did not improve\n",
      "Epoch 00057: val_acc did not improve\n",
      "Epoch 00058: val_acc did not improve\n",
      "Epoch 00059: val_acc did not improve\n",
      "Epoch 00060: val_acc did not improve\n",
      "Epoch 00061: val_acc did not improve\n",
      "Epoch 00062: val_acc did not improve\n",
      "Epoch 00063: val_acc did not improve\n",
      "Epoch 00064: val_acc did not improve\n",
      "Epoch 00065: val_acc improved from 0.77273 to 0.77922, saving model to ./models/c14/nn-best-model.h5\n",
      "Epoch 00066: val_acc did not improve\n",
      "Epoch 00067: val_acc did not improve\n",
      "Epoch 00068: val_acc improved from 0.77922 to 0.78571, saving model to ./models/c14/nn-best-model.h5\n",
      "Epoch 00069: val_acc did not improve\n",
      "Epoch 00070: val_acc did not improve\n",
      "Epoch 00071: val_acc did not improve\n",
      "Epoch 00072: val_acc did not improve\n",
      "Epoch 00073: val_acc improved from 0.78571 to 0.79221, saving model to ./models/c14/nn-best-model.h5\n",
      "Epoch 00074: val_acc did not improve\n",
      "Epoch 00075: val_acc did not improve\n",
      "Epoch 00076: val_acc did not improve\n",
      "Epoch 00077: val_acc did not improve\n",
      "Epoch 00078: val_acc did not improve\n",
      "Epoch 00079: val_acc did not improve\n",
      "Epoch 00080: val_acc did not improve\n",
      "Epoch 00081: val_acc did not improve\n",
      "Epoch 00082: val_acc did not improve\n",
      "Epoch 00083: val_acc did not improve\n",
      "Epoch 00084: val_acc did not improve\n",
      "Epoch 00085: val_acc did not improve\n",
      "Epoch 00086: val_acc improved from 0.79221 to 0.79870, saving model to ./models/c14/nn-best-model.h5\n",
      "Epoch 00087: val_acc did not improve\n",
      "Epoch 00088: val_acc did not improve\n",
      "Epoch 00089: val_acc did not improve\n",
      "Epoch 00090: val_acc did not improve\n",
      "Epoch 00091: val_acc did not improve\n",
      "Epoch 00092: val_acc did not improve\n",
      "Epoch 00093: val_acc did not improve\n",
      "Epoch 00094: val_acc did not improve\n",
      "Epoch 00095: val_acc did not improve\n",
      "Epoch 00096: val_acc did not improve\n",
      "Epoch 00097: val_acc did not improve\n",
      "Epoch 00098: val_acc did not improve\n",
      "Epoch 00099: val_acc did not improve\n",
      "Epoch 00100: val_acc improved from 0.79870 to 0.81169, saving model to ./models/c14/nn-best-model.h5\n",
      "Epoch 00101: val_acc did not improve\n",
      "Epoch 00102: val_acc did not improve\n",
      "Epoch 00103: val_acc did not improve\n",
      "Epoch 00104: val_acc did not improve\n",
      "Epoch 00105: val_acc did not improve\n",
      "Epoch 00106: val_acc improved from 0.81169 to 0.81169, saving model to ./models/c14/nn-best-model.h5\n",
      "Epoch 00107: val_acc did not improve\n",
      "Epoch 00108: val_acc did not improve\n",
      "Epoch 00109: val_acc did not improve\n",
      "Epoch 00110: val_acc did not improve\n",
      "Epoch 00111: val_acc did not improve\n",
      "Epoch 00112: val_acc did not improve\n",
      "Epoch 00113: val_acc did not improve\n",
      "Epoch 00114: val_acc improved from 0.81169 to 0.81818, saving model to ./models/c14/nn-best-model.h5\n",
      "Epoch 00115: val_acc did not improve\n",
      "Epoch 00116: val_acc did not improve\n",
      "Epoch 00117: val_acc did not improve\n",
      "Epoch 00118: val_acc did not improve\n",
      "Epoch 00119: val_acc did not improve\n",
      "Epoch 00120: val_acc did not improve\n",
      "Epoch 00121: val_acc did not improve\n",
      "Epoch 00122: val_acc did not improve\n",
      "Epoch 00123: val_acc did not improve\n",
      "Epoch 00124: val_acc did not improve\n",
      "Epoch 00125: val_acc did not improve\n",
      "Epoch 00126: val_acc did not improve\n",
      "Epoch 00127: val_acc improved from 0.81818 to 0.83117, saving model to ./models/c14/nn-best-model.h5\n",
      "Epoch 00128: val_acc did not improve\n",
      "Epoch 00129: val_acc did not improve\n",
      "Epoch 00130: val_acc did not improve\n",
      "Epoch 00131: val_acc did not improve\n",
      "Epoch 00132: val_acc did not improve\n",
      "Epoch 00133: val_acc did not improve\n",
      "Epoch 00134: val_acc did not improve\n",
      "Epoch 00135: val_acc did not improve\n",
      "Epoch 00136: val_acc did not improve\n",
      "Epoch 00137: val_acc improved from 0.83117 to 0.83117, saving model to ./models/c14/nn-best-model.h5\n",
      "Epoch 00138: val_acc did not improve\n",
      "Epoch 00139: val_acc did not improve\n",
      "Epoch 00140: val_acc did not improve\n",
      "Epoch 00141: val_acc did not improve\n",
      "Epoch 00142: val_acc did not improve\n",
      "Epoch 00143: val_acc did not improve\n",
      "Epoch 00144: val_acc did not improve\n",
      "Epoch 00145: val_acc did not improve\n",
      "Epoch 00146: val_acc did not improve\n",
      "Epoch 00147: val_acc did not improve\n",
      "Epoch 00148: val_acc did not improve\n",
      "Epoch 00149: val_acc did not improve\n"
     ]
    },
    {
     "data": {
      "text/plain": [
       "<keras.callbacks.History at 0x107407ad0>"
      ]
     },
     "execution_count": 9,
     "metadata": {},
     "output_type": "execute_result"
    }
   ],
   "source": [
    "model = create_nn()\n",
    "\n",
    "# file path to save weights\n",
    "# file_path = \"./models/c14/nn-{epoch:02d}--{val_acc:.2f}.h5\"\n",
    "file_path = './models/c14/nn-best-model.h5'  # if your want to cover the older file to reserve the best model only\n",
    "\n",
    "# checkpoint\n",
    "checkpoint = ModelCheckpoint(file_path, monitor='val_acc', verbose=1, save_best_only=True, mode='max')\n",
    "\n",
    "# fit model\n",
    "model.fit(X_train, Y_train, validation_data=(X_val, Y_val), nb_epoch=150, batch_size=10, callbacks=[checkpoint], verbose=0)"
   ]
  },
  {
   "cell_type": "markdown",
   "metadata": {},
   "source": [
    "all the weights file has been savea at ./models/c14/ directory\n",
    "\n",
    "    $ ls -lh\n",
    "    -rw-r--r--  1 liuweijie  staff    21K 12  1 16:11 nn-00--0.63.h5\n",
    "    -rw-r--r--  1 liuweijie  staff    21K 12  1 16:11 nn-01--0.64.h5\n",
    "    -rw-r--r--  1 liuweijie  staff    21K 12  1 16:11 nn-05--0.75.h5\n",
    "    -rw-r--r--  1 liuweijie  staff    21K 12  1 16:11 nn-10--0.75.h5\n",
    "    -rw-r--r--  1 liuweijie  staff    21K 12  1 16:11 nn-12--0.76.h5\n",
    "    -rw-r--r--  1 liuweijie  staff    21K 12  1 16:11 nn-13--0.76.h5\n",
    "    -rw-r--r--  1 liuweijie  staff    21K 12  1 16:11 nn-19--0.76.h5\n",
    "    -rw-r--r--  1 liuweijie  staff    21K 12  1 16:11 nn-20--0.77.h5\n",
    "    -rw-r--r--  1 liuweijie  staff    21K 12  1 16:11 nn-24--0.77.h5\n",
    "    -rw-r--r--  1 liuweijie  staff    21K 12  1 16:11 nn-27--0.78.h5\n",
    "    -rw-r--r--  1 liuweijie  staff    21K 12  1 16:11 nn-30--0.79.h5\n",
    "    -rw-r--r--  1 liuweijie  staff    21K 12  1 16:11 nn-34--0.79.h5\n",
    "    -rw-r--r--  1 liuweijie  staff    21K 12  1 16:11 nn-42--0.80.h5\n",
    "    -rw-r--r--  1 liuweijie  staff    21K 12  1 16:11 nn-45--0.81.h5\n",
    "    -rw-r--r--  1 liuweijie  staff    21K 12  1 16:11 nn-49--0.81.h5\n",
    "    -rw-r--r--  1 liuweijie  staff    21K 12  1 16:11 nn-51--0.82.h5\n",
    "    -rw-r--r--  1 liuweijie  staff    21K 12  1 16:11 nn-56--0.83.h5\n",
    "    -rw-r--r--  1 liuweijie  staff    21K 12  1 16:23 nn-best-model.h5"
   ]
  },
  {
   "cell_type": "markdown",
   "metadata": {},
   "source": [
    "## 3. Load Weights from File"
   ]
  },
  {
   "cell_type": "code",
   "execution_count": 11,
   "metadata": {
    "collapsed": false
   },
   "outputs": [
    {
     "name": "stdout",
     "output_type": "stream",
     "text": [
      "acc: 83.12%\n"
     ]
    }
   ],
   "source": [
    "loaded_model = create_nn()\n",
    "\n",
    "# load weights\n",
    "loaded_model.load_weights(\"./models/c14/nn-best-model.h5\")\n",
    "\n",
    "# evaluate models\n",
    "scores = loaded_model.evaluate(X_val, Y_val, verbose=0)\n",
    "print(\"%s: %.2f%%\" % (loaded_model.metrics_names[1], scores[1]*100))"
   ]
  },
  {
   "cell_type": "code",
   "execution_count": null,
   "metadata": {
    "collapsed": true
   },
   "outputs": [],
   "source": []
  }
 ],
 "metadata": {
  "kernelspec": {
   "display_name": "Python 2",
   "language": "python",
   "name": "python2"
  },
  "language_info": {
   "codemirror_mode": {
    "name": "ipython",
    "version": 2
   },
   "file_extension": ".py",
   "mimetype": "text/x-python",
   "name": "python",
   "nbconvert_exporter": "python",
   "pygments_lexer": "ipython2",
   "version": "2.7.12"
  }
 },
 "nbformat": 4,
 "nbformat_minor": 0
}
