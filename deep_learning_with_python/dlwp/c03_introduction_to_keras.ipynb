{
 "cells": [
  {
   "cell_type": "markdown",
   "metadata": {},
   "source": [
    "# C4: Introduction to Keras"
   ]
  },
  {
   "cell_type": "markdown",
   "metadata": {},
   "source": [
    "## 4.1 What is Keras"
   ]
  },
  {
   "cell_type": "markdown",
   "metadata": {},
   "source": [
    "## 4.2 How to Install Keras\n",
    "\n",
    "Keras can be installed easily using pip\n",
    "\n",
    "```\n",
    "$ source .env/bin/activate\n",
    "$ pip install keras \n",
    "```\n",
    "Check version of Keras after installing."
   ]
  },
  {
   "cell_type": "code",
   "execution_count": 4,
   "metadata": {
    "collapsed": false
   },
   "outputs": [
    {
     "name": "stdout",
     "output_type": "stream",
     "text": [
      "1.1.1\n"
     ]
    }
   ],
   "source": [
    "import keras\n",
    "print(keras.__version__)"
   ]
  },
  {
   "cell_type": "markdown",
   "metadata": {},
   "source": [
    "## 4.3 Configure Theano and TensorFlow Backends for Keras\n",
    "\n",
    "Configure the backend used by Keras. The configuration file is ~/.keras/keras.json. This file is in the form of\n",
    "\n",
    "    {                                                                                                                                   \n",
    "    \"image_dim_ordering\": \"tf\",                                                                                                     \n",
    "    \"epsilon\": 1e-07,                                                                                                               \n",
    "    \"floatx\": \"float32\",                                                                                                            \n",
    "    \"backend\": \"tensorflow\"                                                                                                         \n",
    "    }\n",
    "    \n",
    "You can change backend to \"theano\" from \"tensorflow\" (the default), and Keras will use the configuration next time.\n",
    "\n",
    "You can see the backend in the script by this way"
   ]
  },
  {
   "cell_type": "code",
   "execution_count": 5,
   "metadata": {
    "collapsed": false
   },
   "outputs": [
    {
     "name": "stdout",
     "output_type": "stream",
     "text": [
      "tensorflow\n"
     ]
    }
   ],
   "source": [
    "from keras import backend\n",
    "print(backend._BACKEND)"
   ]
  },
  {
   "cell_type": "markdown",
   "metadata": {},
   "source": [
    "Another way to change backend is specifying the KERAS_BACKEND environment varibale in bash\n",
    "\n",
    "```\n",
    "$ KERAS_BACKEND=theano\n",
    "```"
   ]
  },
  {
   "cell_type": "markdown",
   "metadata": {},
   "source": [
    "## 4.4 Build Deep Learning Models with Keras\n",
    "\n",
    "Four Step:\n",
    "\n",
    "1. Define your model. Create a Sequential model and add configured layers.\n",
    "2. Compile your model. Specify loss function and optimizers and call the compile()\n",
    "function on the model.\n",
    "3. Fit your model. Train the model on a sample of data by calling the fit() function on the model.\n",
    "4. Make predictions. Use the model to generate predictions on new data by calling functions such as evaluate() or predict() on the model.\n"
   ]
  },
  {
   "cell_type": "markdown",
   "metadata": {},
   "source": [
    "## 4.5 Switch to GPU model\n",
    "\n",
    "### 4.5.1 确保环境\n",
    "\n",
    "确保已经正确安装了keras, tensorflow/theano, cuda\n",
    "\n",
    "在MacOS下面安装CUDA请参考：\n",
    "\n",
    "[mac osx/linux下如何将keras运行在GPU上](http://blog.csdn.net/u014205968/article/details/50166651)\n",
    "\n",
    "[use cuda with macos](http://blog.cycleuser.org/use-cuda-80-with-macos-sierra-1012.html)\n",
    "\n",
    "Ubuntu下面安装CUDA请参考：\n",
    "\n",
    "[配置深度学习环境](http://www.52nlp.cn/%E6%B7%B1%E5%BA%A6%E5%AD%A6%E4%B9%A0%E4%B8%BB%E6%9C%BA%E7%8E%AF%E5%A2%83%E9%85%8D%E7%BD%AE-ubuntu-16-04-nvidia-gtx-1080-cuda-8)的最后一步\n",
    "\n",
    "### 4.5.2 切换gpu\n",
    "\n",
    "来自官方的介绍[How do I use keras with gpu](https://keras.io/getting-started/faq/)\n",
    "\n",
    "\n",
    ">If you are running on the TensorFlow backend, your code will automatically run on GPU if any available GPU is detected. If you are running on the Theano backend, you can use one of the following methods:\n",
    "\n",
    ">Method 1: use Theano flags.\n",
    "\n",
    ">THEANO_FLAGS=device=gpu,floatX=float32 python my_keras_script.py\n",
    "The name 'gpu' might have to be changed depending on your device's identifier (e.g. gpu0, gpu1, etc).\n",
    "\n",
    ">Method 2: set up your .theanorc: Instructions\n",
    "\n",
    ">Method 3: manually set theano.config.device, theano.config.floatX at the beginning of your code:\n",
    "\n",
    ">import theano\n",
    ">theano.config.device = 'gpu'\n",
    ">theano.config.floatX = 'float32'\n",
    "\n",
    "使用下面这个脚本来验证是否启动GPU:"
   ]
  },
  {
   "cell_type": "code",
   "execution_count": 5,
   "metadata": {
    "collapsed": false
   },
   "outputs": [
    {
     "name": "stdout",
     "output_type": "stream",
     "text": [
      "[GpuElemwise{exp,no_inplace}(<CudaNdarrayType(float32, vector)>), HostFromGpu(GpuElemwise{exp,no_inplace}.0)]\n",
      "Looping 1000 times took 0.417177 seconds\n",
      "Result is [ 1.23178029  1.61879349  1.52278066 ...,  2.20771813  2.29967761\n",
      "  1.62323296]\n",
      "Used the gpu\n"
     ]
    }
   ],
   "source": [
    "from theano import function, config, shared, sandbox  \n",
    "import theano.tensor as T  \n",
    "import numpy  \n",
    "import time  \n",
    "  \n",
    "vlen = 10 * 30 * 768  # 10 x #cores x # threads per core  \n",
    "iters = 1000  \n",
    "  \n",
    "rng = numpy.random.RandomState(22)  \n",
    "x = shared(numpy.asarray(rng.rand(vlen), config.floatX))  \n",
    "f = function([], T.exp(x))  \n",
    "print(f.maker.fgraph.toposort())  \n",
    "t0 = time.time()  \n",
    "for i in xrange(iters):  \n",
    "    r = f()  \n",
    "t1 = time.time()  \n",
    "print(\"Looping %d times took %f seconds\" % (iters, t1 - t0))  \n",
    "print(\"Result is %s\" % (r,))  \n",
    "if numpy.any([isinstance(x.op, T.Elemwise) for x in f.maker.fgraph.toposort()]):  \n",
    "    print('Used the cpu')  \n",
    "else:  \n",
    "    print('Used the gpu')\n"
   ]
  },
  {
   "cell_type": "markdown",
   "metadata": {},
   "source": []
  },
  {
   "cell_type": "code",
   "execution_count": null,
   "metadata": {
    "collapsed": true
   },
   "outputs": [],
   "source": []
  }
 ],
 "metadata": {
  "kernelspec": {
   "display_name": "Python 2",
   "language": "python",
   "name": "python2"
  },
  "language_info": {
   "codemirror_mode": {
    "name": "ipython",
    "version": 2
   },
   "file_extension": ".py",
   "mimetype": "text/x-python",
   "name": "python",
   "nbconvert_exporter": "python",
   "pygments_lexer": "ipython2",
   "version": "2.7.12"
  }
 },
 "nbformat": 4,
 "nbformat_minor": 0
}
